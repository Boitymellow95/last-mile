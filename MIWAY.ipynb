{
 "cells": [
  {
   "cell_type": "markdown",
   "id": "33cf5713",
   "metadata": {},
   "source": [
    " Building a sales propensity-to-buy model\n",
    " \n",
    " That is able to predict the probability that they will purchase one of our products  (“make a sale”)."
   ]
  },
  {
   "cell_type": "code",
   "execution_count": 8,
   "id": "8f6fc6c8",
   "metadata": {},
   "outputs": [],
   "source": [
    "import numpy as np\n",
    "import pandas as pd\n",
    "from matplotlib import pyplot as plt\n",
    "import seaborn as sns\n",
    "from sklearn.preprocessing import StandardScaler\n",
    "from sklearn.linear_model import Ridge\n",
    "from sklearn.linear_model import Lasso\n",
    "from sklearn.ensemble import RandomForestRegressor\n",
    "from sklearn import metrics\n",
    "from sklearn.model_selection import RandomizedSearchCV\n",
    "from scipy import stats\n",
    "sns.set(style=\"darkgrid\", color_codes=True)\n",
    "from mpl_toolkits.mplot3d import Axes3D \n",
    "from scipy.stats import skew, norm, probplot, boxcox \n",
    "from sklearn.model_selection import train_test_split\n",
    "from warnings import filterwarnings\n",
    "filterwarnings('ignore') \n",
    "\n"
   ]
  },
  {
   "cell_type": "code",
   "execution_count": 9,
   "id": "3c5314be",
   "metadata": {},
   "outputs": [],
   "source": [
    "import dask.dataframe as dd"
   ]
  },
  {
   "cell_type": "code",
   "execution_count": 10,
   "id": "f67f7f1c",
   "metadata": {},
   "outputs": [],
   "source": [
    "##Imported the test and train datasets\n",
    "\n",
    "train = pd.read_csv('Train.csv')\n",
    "test = pd.read_csv('Test.csv')\n",
    "\n",
    "##Saved the IDs to the side"
   ]
  },
  {
   "cell_type": "code",
   "execution_count": null,
   "id": "67242df3-b49d-461c-b7d4-e561baab3986",
   "metadata": {},
   "outputs": [],
   "source": []
  },
  {
   "cell_type": "markdown",
   "id": "dd2ac5c6",
   "metadata": {},
   "source": [
    "# Exploratory Data Analysis\n",
    "\n"
   ]
  },
  {
   "cell_type": "markdown",
   "id": "491f25ee",
   "metadata": {},
   "source": [
    "# TRAIN DATA\n",
    "\n",
    "\n",
    "**Lets look at  our train dataset**"
   ]
  },
  {
   "cell_type": "code",
   "execution_count": 11,
   "id": "de3e577b",
   "metadata": {},
   "outputs": [
    {
     "data": {
      "text/html": [
       "<div>\n",
       "<style scoped>\n",
       "    .dataframe tbody tr th:only-of-type {\n",
       "        vertical-align: middle;\n",
       "    }\n",
       "\n",
       "    .dataframe tbody tr th {\n",
       "        vertical-align: top;\n",
       "    }\n",
       "\n",
       "    .dataframe thead th {\n",
       "        text-align: right;\n",
       "    }\n",
       "</style>\n",
       "<table border=\"1\" class=\"dataframe\">\n",
       "  <thead>\n",
       "    <tr style=\"text-align: right;\">\n",
       "      <th></th>\n",
       "      <th>RowID</th>\n",
       "      <th>COL_1</th>\n",
       "      <th>COL_2</th>\n",
       "      <th>COL_3</th>\n",
       "      <th>COL_4</th>\n",
       "      <th>COL_5</th>\n",
       "      <th>SOLD</th>\n",
       "    </tr>\n",
       "  </thead>\n",
       "  <tbody>\n",
       "    <tr>\n",
       "      <th>0</th>\n",
       "      <td>1yEGeg9E</td>\n",
       "      <td>190.0</td>\n",
       "      <td>VAL_A</td>\n",
       "      <td>7.0</td>\n",
       "      <td>4.0</td>\n",
       "      <td>-4.0</td>\n",
       "      <td>0</td>\n",
       "    </tr>\n",
       "    <tr>\n",
       "      <th>1</th>\n",
       "      <td>fEaDXHiD</td>\n",
       "      <td>215.0</td>\n",
       "      <td>VAL_B</td>\n",
       "      <td>7.0</td>\n",
       "      <td>8.0</td>\n",
       "      <td>-1.0</td>\n",
       "      <td>0</td>\n",
       "    </tr>\n",
       "    <tr>\n",
       "      <th>2</th>\n",
       "      <td>NMc0TKTM</td>\n",
       "      <td>NaN</td>\n",
       "      <td>NaN</td>\n",
       "      <td>NaN</td>\n",
       "      <td>28.0</td>\n",
       "      <td>18.0</td>\n",
       "      <td>0</td>\n",
       "    </tr>\n",
       "    <tr>\n",
       "      <th>3</th>\n",
       "      <td>OM0YAyZe</td>\n",
       "      <td>NaN</td>\n",
       "      <td>NaN</td>\n",
       "      <td>NaN</td>\n",
       "      <td>50.0</td>\n",
       "      <td>4.0</td>\n",
       "      <td>0</td>\n",
       "    </tr>\n",
       "    <tr>\n",
       "      <th>4</th>\n",
       "      <td>L4Ntlncn</td>\n",
       "      <td>NaN</td>\n",
       "      <td>NaN</td>\n",
       "      <td>NaN</td>\n",
       "      <td>14.0</td>\n",
       "      <td>23.0</td>\n",
       "      <td>0</td>\n",
       "    </tr>\n",
       "  </tbody>\n",
       "</table>\n",
       "</div>"
      ],
      "text/plain": [
       "      RowID  COL_1  COL_2  COL_3  COL_4  COL_5  SOLD\n",
       "0  1yEGeg9E  190.0  VAL_A    7.0    4.0   -4.0     0\n",
       "1  fEaDXHiD  215.0  VAL_B    7.0    8.0   -1.0     0\n",
       "2  NMc0TKTM    NaN    NaN    NaN   28.0   18.0     0\n",
       "3  OM0YAyZe    NaN    NaN    NaN   50.0    4.0     0\n",
       "4  L4Ntlncn    NaN    NaN    NaN   14.0   23.0     0"
      ]
     },
     "execution_count": 11,
     "metadata": {},
     "output_type": "execute_result"
    }
   ],
   "source": [
    "train.head()"
   ]
  },
  {
   "cell_type": "code",
   "execution_count": 91,
   "id": "c7d9a211",
   "metadata": {},
   "outputs": [
    {
     "name": "stdout",
     "output_type": "stream",
     "text": [
      "<class 'pandas.core.frame.DataFrame'>\n",
      "RangeIndex: 97086 entries, 0 to 97085\n",
      "Data columns (total 7 columns):\n",
      " #   Column  Non-Null Count  Dtype  \n",
      "---  ------  --------------  -----  \n",
      " 0   RowID   97086 non-null  object \n",
      " 1   COL_1   43734 non-null  float64\n",
      " 2   COL_2   47679 non-null  object \n",
      " 3   COL_3   44262 non-null  float64\n",
      " 4   COL_4   79932 non-null  float64\n",
      " 5   COL_5   97058 non-null  float64\n",
      " 6   SOLD    97086 non-null  int64  \n",
      "dtypes: float64(4), int64(1), object(2)\n",
      "memory usage: 5.2+ MB\n"
     ]
    }
   ],
   "source": [
    "train.info()"
   ]
  },
  {
   "cell_type": "markdown",
   "id": "454195ba",
   "metadata": {},
   "source": [
    "We can take a look at the dimensions of the train set to get an idea of the number of rows (n) and nummber of predictors (p) which is equal to one less than the number of columns.\n"
   ]
  },
  {
   "cell_type": "code",
   "execution_count": 92,
   "id": "473effd0",
   "metadata": {},
   "outputs": [
    {
     "data": {
      "text/plain": [
       "(97086, 7)"
      ]
     },
     "execution_count": 92,
     "metadata": {},
     "output_type": "execute_result"
    }
   ],
   "source": [
    "train.shape"
   ]
  },
  {
   "cell_type": "markdown",
   "id": "3db61a5a",
   "metadata": {},
   "source": [
    "The shape command shows us that the train data has 97086 rows of data and 7 variables. We will try and model the sale  propensity per individual lead using the other 6 variables."
   ]
  },
  {
   "cell_type": "code",
   "execution_count": 93,
   "id": "f0b1eca6",
   "metadata": {},
   "outputs": [
    {
     "name": "stdout",
     "output_type": "stream",
     "text": [
      "<class 'pandas.core.frame.DataFrame'>\n",
      "RangeIndex: 97086 entries, 0 to 97085\n",
      "Data columns (total 7 columns):\n",
      " #   Column  Non-Null Count  Dtype  \n",
      "---  ------  --------------  -----  \n",
      " 0   RowID   97086 non-null  object \n",
      " 1   COL_1   43734 non-null  float64\n",
      " 2   COL_2   47679 non-null  object \n",
      " 3   COL_3   44262 non-null  float64\n",
      " 4   COL_4   79932 non-null  float64\n",
      " 5   COL_5   97058 non-null  float64\n",
      " 6   SOLD    97086 non-null  int64  \n",
      "dtypes: float64(4), int64(1), object(2)\n",
      "memory usage: 5.2+ MB\n"
     ]
    }
   ],
   "source": [
    "train.info()"
   ]
  },
  {
   "cell_type": "markdown",
   "id": "ceddbed3",
   "metadata": {},
   "source": [
    " The Pandas library can help us investigate this further, using the info() function. This function tells us what columns are in the dataframe, how many null values they have and what datatype they are"
   ]
  },
  {
   "cell_type": "code",
   "execution_count": 94,
   "id": "90ccb4a8",
   "metadata": {},
   "outputs": [
    {
     "data": {
      "text/plain": [
       "RowID        0\n",
       "COL_1    53352\n",
       "COL_2    49407\n",
       "COL_3    52824\n",
       "COL_4    17154\n",
       "COL_5       28\n",
       "SOLD         0\n",
       "dtype: int64"
      ]
     },
     "execution_count": 94,
     "metadata": {},
     "output_type": "execute_result"
    }
   ],
   "source": [
    "train.isnull().sum()"
   ]
  },
  {
   "cell_type": "markdown",
   "id": "5b70d7b1",
   "metadata": {},
   "source": [
    "From the information generated, we can see that 5 column have missing values.\n"
   ]
  },
  {
   "cell_type": "code",
   "execution_count": 95,
   "id": "9489cd21",
   "metadata": {},
   "outputs": [
    {
     "data": {
      "text/html": [
       "<div>\n",
       "<style scoped>\n",
       "    .dataframe tbody tr th:only-of-type {\n",
       "        vertical-align: middle;\n",
       "    }\n",
       "\n",
       "    .dataframe tbody tr th {\n",
       "        vertical-align: top;\n",
       "    }\n",
       "\n",
       "    .dataframe thead th {\n",
       "        text-align: right;\n",
       "    }\n",
       "</style>\n",
       "<table border=\"1\" class=\"dataframe\">\n",
       "  <thead>\n",
       "    <tr style=\"text-align: right;\">\n",
       "      <th></th>\n",
       "      <th>COL_1</th>\n",
       "      <th>COL_3</th>\n",
       "      <th>COL_4</th>\n",
       "      <th>COL_5</th>\n",
       "      <th>SOLD</th>\n",
       "    </tr>\n",
       "  </thead>\n",
       "  <tbody>\n",
       "    <tr>\n",
       "      <th>count</th>\n",
       "      <td>43734.000000</td>\n",
       "      <td>44262.000000</td>\n",
       "      <td>79932.000000</td>\n",
       "      <td>97058.000000</td>\n",
       "      <td>97086.000000</td>\n",
       "    </tr>\n",
       "    <tr>\n",
       "      <th>mean</th>\n",
       "      <td>204.195935</td>\n",
       "      <td>4.254530</td>\n",
       "      <td>9.818233</td>\n",
       "      <td>4.981557</td>\n",
       "      <td>0.004985</td>\n",
       "    </tr>\n",
       "    <tr>\n",
       "      <th>std</th>\n",
       "      <td>128.983008</td>\n",
       "      <td>2.104822</td>\n",
       "      <td>7.576108</td>\n",
       "      <td>10.914330</td>\n",
       "      <td>0.070431</td>\n",
       "    </tr>\n",
       "    <tr>\n",
       "      <th>min</th>\n",
       "      <td>-3.000000</td>\n",
       "      <td>-3.000000</td>\n",
       "      <td>0.000000</td>\n",
       "      <td>-39.000000</td>\n",
       "      <td>0.000000</td>\n",
       "    </tr>\n",
       "    <tr>\n",
       "      <th>25%</th>\n",
       "      <td>160.000000</td>\n",
       "      <td>2.000000</td>\n",
       "      <td>7.000000</td>\n",
       "      <td>-4.000000</td>\n",
       "      <td>0.000000</td>\n",
       "    </tr>\n",
       "    <tr>\n",
       "      <th>50%</th>\n",
       "      <td>215.000000</td>\n",
       "      <td>4.000000</td>\n",
       "      <td>8.000000</td>\n",
       "      <td>4.000000</td>\n",
       "      <td>0.000000</td>\n",
       "    </tr>\n",
       "    <tr>\n",
       "      <th>75%</th>\n",
       "      <td>265.000000</td>\n",
       "      <td>6.000000</td>\n",
       "      <td>10.000000</td>\n",
       "      <td>13.000000</td>\n",
       "      <td>0.000000</td>\n",
       "    </tr>\n",
       "    <tr>\n",
       "      <th>max</th>\n",
       "      <td>888.000000</td>\n",
       "      <td>8.000000</td>\n",
       "      <td>55.000000</td>\n",
       "      <td>83.000000</td>\n",
       "      <td>1.000000</td>\n",
       "    </tr>\n",
       "  </tbody>\n",
       "</table>\n",
       "</div>"
      ],
      "text/plain": [
       "              COL_1         COL_3         COL_4         COL_5          SOLD\n",
       "count  43734.000000  44262.000000  79932.000000  97058.000000  97086.000000\n",
       "mean     204.195935      4.254530      9.818233      4.981557      0.004985\n",
       "std      128.983008      2.104822      7.576108     10.914330      0.070431\n",
       "min       -3.000000     -3.000000      0.000000    -39.000000      0.000000\n",
       "25%      160.000000      2.000000      7.000000     -4.000000      0.000000\n",
       "50%      215.000000      4.000000      8.000000      4.000000      0.000000\n",
       "75%      265.000000      6.000000     10.000000     13.000000      0.000000\n",
       "max      888.000000      8.000000     55.000000     83.000000      1.000000"
      ]
     },
     "execution_count": 95,
     "metadata": {},
     "output_type": "execute_result"
    }
   ],
   "source": [
    "\n",
    "train_df.describe()"
   ]
  },
  {
   "cell_type": "code",
   "execution_count": 96,
   "id": "ce4bc9cf",
   "metadata": {},
   "outputs": [
    {
     "name": "stdout",
     "output_type": "stream",
     "text": [
      "       RowID  COL_1  COL_2  COL_3  COL_4  COL_5   SOLD\n",
      "0      False  False  False  False  False  False  False\n",
      "1      False  False  False  False  False  False  False\n",
      "2      False   True   True   True  False  False  False\n",
      "3      False   True   True   True  False  False  False\n",
      "4      False   True   True   True  False  False  False\n",
      "...      ...    ...    ...    ...    ...    ...    ...\n",
      "97081  False   True   True   True   True  False  False\n",
      "97082  False  False  False  False  False  False  False\n",
      "97083  False  False  False  False  False  False  False\n",
      "97084  False  False  False  False  False  False  False\n",
      "97085  False  False  False  False  False  False  False\n",
      "\n",
      "[97086 rows x 7 columns]\n"
     ]
    }
   ],
   "source": [
    "print(train.isnull())  ##check for nulls "
   ]
  },
  {
   "cell_type": "code",
   "execution_count": 97,
   "id": "57294dda",
   "metadata": {},
   "outputs": [
    {
     "data": {
      "text/html": [
       "<div>\n",
       "<style scoped>\n",
       "    .dataframe tbody tr th:only-of-type {\n",
       "        vertical-align: middle;\n",
       "    }\n",
       "\n",
       "    .dataframe tbody tr th {\n",
       "        vertical-align: top;\n",
       "    }\n",
       "\n",
       "    .dataframe thead th {\n",
       "        text-align: right;\n",
       "    }\n",
       "</style>\n",
       "<table border=\"1\" class=\"dataframe\">\n",
       "  <thead>\n",
       "    <tr style=\"text-align: right;\">\n",
       "      <th></th>\n",
       "      <th>RowID</th>\n",
       "      <th>COL_1</th>\n",
       "      <th>COL_2</th>\n",
       "      <th>COL_3</th>\n",
       "      <th>COL_4</th>\n",
       "      <th>COL_5</th>\n",
       "      <th>SOLD</th>\n",
       "    </tr>\n",
       "  </thead>\n",
       "  <tbody>\n",
       "    <tr>\n",
       "      <th>0</th>\n",
       "      <td>1yEGeg9E</td>\n",
       "      <td>190.0</td>\n",
       "      <td>VAL_A</td>\n",
       "      <td>7.0</td>\n",
       "      <td>4.0</td>\n",
       "      <td>-4.0</td>\n",
       "      <td>0</td>\n",
       "    </tr>\n",
       "    <tr>\n",
       "      <th>1</th>\n",
       "      <td>fEaDXHiD</td>\n",
       "      <td>215.0</td>\n",
       "      <td>VAL_B</td>\n",
       "      <td>7.0</td>\n",
       "      <td>8.0</td>\n",
       "      <td>-1.0</td>\n",
       "      <td>0</td>\n",
       "    </tr>\n",
       "    <tr>\n",
       "      <th>2</th>\n",
       "      <td>NMc0TKTM</td>\n",
       "      <td>0.0</td>\n",
       "      <td>0</td>\n",
       "      <td>0.0</td>\n",
       "      <td>28.0</td>\n",
       "      <td>18.0</td>\n",
       "      <td>0</td>\n",
       "    </tr>\n",
       "    <tr>\n",
       "      <th>3</th>\n",
       "      <td>OM0YAyZe</td>\n",
       "      <td>0.0</td>\n",
       "      <td>0</td>\n",
       "      <td>0.0</td>\n",
       "      <td>50.0</td>\n",
       "      <td>4.0</td>\n",
       "      <td>0</td>\n",
       "    </tr>\n",
       "    <tr>\n",
       "      <th>4</th>\n",
       "      <td>L4Ntlncn</td>\n",
       "      <td>0.0</td>\n",
       "      <td>0</td>\n",
       "      <td>0.0</td>\n",
       "      <td>14.0</td>\n",
       "      <td>23.0</td>\n",
       "      <td>0</td>\n",
       "    </tr>\n",
       "    <tr>\n",
       "      <th>...</th>\n",
       "      <td>...</td>\n",
       "      <td>...</td>\n",
       "      <td>...</td>\n",
       "      <td>...</td>\n",
       "      <td>...</td>\n",
       "      <td>...</td>\n",
       "      <td>...</td>\n",
       "    </tr>\n",
       "    <tr>\n",
       "      <th>97081</th>\n",
       "      <td>aAy1WY9w</td>\n",
       "      <td>0.0</td>\n",
       "      <td>0</td>\n",
       "      <td>0.0</td>\n",
       "      <td>0.0</td>\n",
       "      <td>-6.0</td>\n",
       "      <td>0</td>\n",
       "    </tr>\n",
       "    <tr>\n",
       "      <th>97082</th>\n",
       "      <td>NSwGsRtM</td>\n",
       "      <td>285.0</td>\n",
       "      <td>VAL_A</td>\n",
       "      <td>5.0</td>\n",
       "      <td>7.0</td>\n",
       "      <td>-1.0</td>\n",
       "      <td>0</td>\n",
       "    </tr>\n",
       "    <tr>\n",
       "      <th>97083</th>\n",
       "      <td>4q5ZQqlc</td>\n",
       "      <td>275.0</td>\n",
       "      <td>VAL_B</td>\n",
       "      <td>2.0</td>\n",
       "      <td>8.0</td>\n",
       "      <td>0.0</td>\n",
       "      <td>0</td>\n",
       "    </tr>\n",
       "    <tr>\n",
       "      <th>97084</th>\n",
       "      <td>8lY3uHwR</td>\n",
       "      <td>175.0</td>\n",
       "      <td>VAL_B</td>\n",
       "      <td>3.0</td>\n",
       "      <td>5.0</td>\n",
       "      <td>31.0</td>\n",
       "      <td>0</td>\n",
       "    </tr>\n",
       "    <tr>\n",
       "      <th>97085</th>\n",
       "      <td>VUl0eI0H</td>\n",
       "      <td>300.0</td>\n",
       "      <td>VAL_B</td>\n",
       "      <td>6.0</td>\n",
       "      <td>4.0</td>\n",
       "      <td>22.0</td>\n",
       "      <td>0</td>\n",
       "    </tr>\n",
       "  </tbody>\n",
       "</table>\n",
       "<p>97086 rows × 7 columns</p>\n",
       "</div>"
      ],
      "text/plain": [
       "          RowID  COL_1  COL_2  COL_3  COL_4  COL_5  SOLD\n",
       "0      1yEGeg9E  190.0  VAL_A    7.0    4.0   -4.0     0\n",
       "1      fEaDXHiD  215.0  VAL_B    7.0    8.0   -1.0     0\n",
       "2      NMc0TKTM    0.0      0    0.0   28.0   18.0     0\n",
       "3      OM0YAyZe    0.0      0    0.0   50.0    4.0     0\n",
       "4      L4Ntlncn    0.0      0    0.0   14.0   23.0     0\n",
       "...         ...    ...    ...    ...    ...    ...   ...\n",
       "97081  aAy1WY9w    0.0      0    0.0    0.0   -6.0     0\n",
       "97082  NSwGsRtM  285.0  VAL_A    5.0    7.0   -1.0     0\n",
       "97083  4q5ZQqlc  275.0  VAL_B    2.0    8.0    0.0     0\n",
       "97084  8lY3uHwR  175.0  VAL_B    3.0    5.0   31.0     0\n",
       "97085  VUl0eI0H  300.0  VAL_B    6.0    4.0   22.0     0\n",
       "\n",
       "[97086 rows x 7 columns]"
      ]
     },
     "execution_count": 97,
     "metadata": {},
     "output_type": "execute_result"
    }
   ],
   "source": [
    "#replace all nAN WITH 0 \n",
    "\n",
    "\n",
    "\n",
    "# replace all NA's with 0\n",
    "train_df = train.copy()\n",
    "train_df.fillna(0)\n",
    "\n"
   ]
  },
  {
   "cell_type": "code",
   "execution_count": 98,
   "id": "c1be835c",
   "metadata": {},
   "outputs": [
    {
     "data": {
      "text/plain": [
       "COL_1     1.480234\n",
       "COL_3    -0.126046\n",
       "COL_4     3.128925\n",
       "COL_5     0.309467\n",
       "SOLD     14.057099\n",
       "dtype: float64"
      ]
     },
     "execution_count": 98,
     "metadata": {},
     "output_type": "execute_result"
    }
   ],
   "source": [
    "train_df.skew()"
   ]
  },
  {
   "cell_type": "markdown",
   "id": "e966e09c",
   "metadata": {},
   "source": [
    "It appears that only SOLD (our target) is fairly symmetrical. The rest of our features appear to be highly skewed in the positive direction.\n"
   ]
  },
  {
   "cell_type": "code",
   "execution_count": 99,
   "id": "90bc2b3c",
   "metadata": {},
   "outputs": [
    {
     "data": {
      "text/plain": [
       "COL_1      8.778838\n",
       "COL_3     -1.142294\n",
       "COL_4     12.228254\n",
       "COL_5     -0.166720\n",
       "SOLD     195.606055\n",
       "dtype: float64"
      ]
     },
     "execution_count": 99,
     "metadata": {},
     "output_type": "execute_result"
    }
   ],
   "source": [
    "train_df.kurtosis()"
   ]
  },
  {
   "cell_type": "code",
   "execution_count": 100,
   "id": "a461eed7",
   "metadata": {},
   "outputs": [
    {
     "data": {
      "text/html": [
       "<div>\n",
       "<style scoped>\n",
       "    .dataframe tbody tr th:only-of-type {\n",
       "        vertical-align: middle;\n",
       "    }\n",
       "\n",
       "    .dataframe tbody tr th {\n",
       "        vertical-align: top;\n",
       "    }\n",
       "\n",
       "    .dataframe thead th {\n",
       "        text-align: right;\n",
       "    }\n",
       "</style>\n",
       "<table border=\"1\" class=\"dataframe\">\n",
       "  <thead>\n",
       "    <tr style=\"text-align: right;\">\n",
       "      <th></th>\n",
       "      <th>COL_1</th>\n",
       "      <th>COL_3</th>\n",
       "      <th>COL_4</th>\n",
       "      <th>COL_5</th>\n",
       "      <th>SOLD</th>\n",
       "    </tr>\n",
       "  </thead>\n",
       "  <tbody>\n",
       "    <tr>\n",
       "      <th>count</th>\n",
       "      <td>43734.000000</td>\n",
       "      <td>44262.000000</td>\n",
       "      <td>79932.000000</td>\n",
       "      <td>97058.000000</td>\n",
       "      <td>97086.000000</td>\n",
       "    </tr>\n",
       "    <tr>\n",
       "      <th>mean</th>\n",
       "      <td>204.195935</td>\n",
       "      <td>4.254530</td>\n",
       "      <td>9.818233</td>\n",
       "      <td>4.981557</td>\n",
       "      <td>0.004985</td>\n",
       "    </tr>\n",
       "    <tr>\n",
       "      <th>std</th>\n",
       "      <td>128.983008</td>\n",
       "      <td>2.104822</td>\n",
       "      <td>7.576108</td>\n",
       "      <td>10.914330</td>\n",
       "      <td>0.070431</td>\n",
       "    </tr>\n",
       "    <tr>\n",
       "      <th>min</th>\n",
       "      <td>-3.000000</td>\n",
       "      <td>-3.000000</td>\n",
       "      <td>0.000000</td>\n",
       "      <td>-39.000000</td>\n",
       "      <td>0.000000</td>\n",
       "    </tr>\n",
       "    <tr>\n",
       "      <th>25%</th>\n",
       "      <td>160.000000</td>\n",
       "      <td>2.000000</td>\n",
       "      <td>7.000000</td>\n",
       "      <td>-4.000000</td>\n",
       "      <td>0.000000</td>\n",
       "    </tr>\n",
       "    <tr>\n",
       "      <th>50%</th>\n",
       "      <td>215.000000</td>\n",
       "      <td>4.000000</td>\n",
       "      <td>8.000000</td>\n",
       "      <td>4.000000</td>\n",
       "      <td>0.000000</td>\n",
       "    </tr>\n",
       "    <tr>\n",
       "      <th>75%</th>\n",
       "      <td>265.000000</td>\n",
       "      <td>6.000000</td>\n",
       "      <td>10.000000</td>\n",
       "      <td>13.000000</td>\n",
       "      <td>0.000000</td>\n",
       "    </tr>\n",
       "    <tr>\n",
       "      <th>max</th>\n",
       "      <td>888.000000</td>\n",
       "      <td>8.000000</td>\n",
       "      <td>55.000000</td>\n",
       "      <td>83.000000</td>\n",
       "      <td>1.000000</td>\n",
       "    </tr>\n",
       "  </tbody>\n",
       "</table>\n",
       "</div>"
      ],
      "text/plain": [
       "              COL_1         COL_3         COL_4         COL_5          SOLD\n",
       "count  43734.000000  44262.000000  79932.000000  97058.000000  97086.000000\n",
       "mean     204.195935      4.254530      9.818233      4.981557      0.004985\n",
       "std      128.983008      2.104822      7.576108     10.914330      0.070431\n",
       "min       -3.000000     -3.000000      0.000000    -39.000000      0.000000\n",
       "25%      160.000000      2.000000      7.000000     -4.000000      0.000000\n",
       "50%      215.000000      4.000000      8.000000      4.000000      0.000000\n",
       "75%      265.000000      6.000000     10.000000     13.000000      0.000000\n",
       "max      888.000000      8.000000     55.000000     83.000000      1.000000"
      ]
     },
     "execution_count": 100,
     "metadata": {},
     "output_type": "execute_result"
    }
   ],
   "source": [
    "train_df.describe()\n"
   ]
  },
  {
   "cell_type": "markdown",
   "id": "7370d1bd",
   "metadata": {},
   "source": [
    "**Multivariate Analysis**\n",
    "\n",
    " we determine the relationship between any two numerical features by calculating the correlation coefficient. Correlation is a measure of the degree to which two variables change together. If two features have a strong positive correlation, it means that if the value of one feature increases, the value of the other feature also increases."
   ]
  },
  {
   "cell_type": "code",
   "execution_count": 101,
   "id": "9b5e651e",
   "metadata": {},
   "outputs": [
    {
     "data": {
      "text/html": [
       "<div>\n",
       "<style scoped>\n",
       "    .dataframe tbody tr th:only-of-type {\n",
       "        vertical-align: middle;\n",
       "    }\n",
       "\n",
       "    .dataframe tbody tr th {\n",
       "        vertical-align: top;\n",
       "    }\n",
       "\n",
       "    .dataframe thead th {\n",
       "        text-align: right;\n",
       "    }\n",
       "</style>\n",
       "<table border=\"1\" class=\"dataframe\">\n",
       "  <thead>\n",
       "    <tr style=\"text-align: right;\">\n",
       "      <th></th>\n",
       "      <th>COL_1</th>\n",
       "      <th>COL_3</th>\n",
       "      <th>COL_4</th>\n",
       "      <th>COL_5</th>\n",
       "      <th>SOLD</th>\n",
       "    </tr>\n",
       "  </thead>\n",
       "  <tbody>\n",
       "    <tr>\n",
       "      <th>COL_1</th>\n",
       "      <td>1.000000</td>\n",
       "      <td>0.189595</td>\n",
       "      <td>0.027440</td>\n",
       "      <td>-0.106993</td>\n",
       "      <td>-0.014100</td>\n",
       "    </tr>\n",
       "    <tr>\n",
       "      <th>COL_3</th>\n",
       "      <td>0.189595</td>\n",
       "      <td>1.000000</td>\n",
       "      <td>0.009136</td>\n",
       "      <td>-0.196264</td>\n",
       "      <td>-0.013375</td>\n",
       "    </tr>\n",
       "    <tr>\n",
       "      <th>COL_4</th>\n",
       "      <td>0.027440</td>\n",
       "      <td>0.009136</td>\n",
       "      <td>1.000000</td>\n",
       "      <td>-0.004715</td>\n",
       "      <td>-0.039746</td>\n",
       "    </tr>\n",
       "    <tr>\n",
       "      <th>COL_5</th>\n",
       "      <td>-0.106993</td>\n",
       "      <td>-0.196264</td>\n",
       "      <td>-0.004715</td>\n",
       "      <td>1.000000</td>\n",
       "      <td>-0.003325</td>\n",
       "    </tr>\n",
       "    <tr>\n",
       "      <th>SOLD</th>\n",
       "      <td>-0.014100</td>\n",
       "      <td>-0.013375</td>\n",
       "      <td>-0.039746</td>\n",
       "      <td>-0.003325</td>\n",
       "      <td>1.000000</td>\n",
       "    </tr>\n",
       "  </tbody>\n",
       "</table>\n",
       "</div>"
      ],
      "text/plain": [
       "          COL_1     COL_3     COL_4     COL_5      SOLD\n",
       "COL_1  1.000000  0.189595  0.027440 -0.106993 -0.014100\n",
       "COL_3  0.189595  1.000000  0.009136 -0.196264 -0.013375\n",
       "COL_4  0.027440  0.009136  1.000000 -0.004715 -0.039746\n",
       "COL_5 -0.106993 -0.196264 -0.004715  1.000000 -0.003325\n",
       "SOLD  -0.014100 -0.013375 -0.039746 -0.003325  1.000000"
      ]
     },
     "execution_count": 101,
     "metadata": {},
     "output_type": "execute_result"
    }
   ],
   "source": [
    "#CHECK FOR CORRELATION WITHIN OUR FEATURES\n",
    "train_df.corr()"
   ]
  },
  {
   "cell_type": "markdown",
   "id": "6e76c6f1",
   "metadata": {},
   "source": [
    "**Graphical Analysis**\n",
    "\n",
    "**Univariate Analysis**\n",
    "\n",
    "We determine the distribution of our numerical features using the following:\n",
    "\n",
    "    Histogram\n",
    "    Density plot\n",
    "\n",
    "For a categorical feature we will use a:\n",
    "\n",
    "    Bar Graph\n",
    "\n"
   ]
  },
  {
   "cell_type": "markdown",
   "id": "26f9f16b",
   "metadata": {},
   "source": [
    "HISTOGRAM"
   ]
  },
  {
   "cell_type": "code",
   "execution_count": 102,
   "id": "19096788",
   "metadata": {
    "scrolled": true
   },
   "outputs": [
    {
     "data": {
      "image/png": "[encoded data removed]",
      "text/plain": [
       "<Figure size 1440x1080 with 6 Axes>"
      ]
     },
     "metadata": {},
     "output_type": "display_data"
    }
   ],
   "source": [
    "features = ['COL_1','COL_3', 'COL_4', 'COL_5' ,'SOLD',] # create a list of all numerical features\n",
    "train_df[features].hist(bins=50, figsize=(20,15), color = 'tab:blue' );"
   ]
  },
  {
   "cell_type": "code",
   "execution_count": null,
   "id": "6af11a63",
   "metadata": {},
   "outputs": [],
   "source": []
  },
  {
   "cell_type": "code",
   "execution_count": 103,
   "id": "57f46a01",
   "metadata": {},
   "outputs": [
    {
     "data": {
      "image/png": "[encoded data removed]",
      "text/plain": [
       "<Figure size 1440x1080 with 9 Axes>"
      ]
     },
     "metadata": {},
     "output_type": "display_data"
    }
   ],
   "source": [
    "train_df[features].plot(kind='density', subplots=True, layout=(3, 3), sharex=False, figsize=(20, 15));"
   ]
  },
  {
   "cell_type": "markdown",
   "id": "bc3e7122",
   "metadata": {},
   "source": [
    "The histogram and density plot confirms the high positive skew in of feature, as well as the presence of outliers.\n"
   ]
  },
  {
   "cell_type": "markdown",
   "id": "0ab3f23f",
   "metadata": {},
   "source": [
    "**Bar plot**\n",
    "\n",
    "For the categorical features, we can create a bar plot to display the frequency distribution. "
   ]
  },
  {
   "cell_type": "code",
   "execution_count": 104,
   "id": "30811cc2",
   "metadata": {},
   "outputs": [],
   "source": [
    "sns.countplot?"
   ]
  },
  {
   "cell_type": "code",
   "execution_count": 105,
   "id": "9dc64386",
   "metadata": {},
   "outputs": [
    {
     "data": {
      "image/png": "[encoded data removed]",
      "text/plain": [
       "<Figure size 432x288 with 1 Axes>"
      ]
     },
     "metadata": {},
     "output_type": "display_data"
    }
   ],
   "source": [
    "sns.countplot(x = 'RowID', data = train_df, palette=\"dark\")\n",
    "plt.title(\"Distribution of individual lead\");"
   ]
  },
  {
   "cell_type": "markdown",
   "id": "ed99da7e",
   "metadata": {},
   "source": [
    "**Multivariate Analysis**\n",
    "\n",
    "For the multivariate graphical analysis the following visualisations will be considered:\n",
    "\n",
    "    Heatmap\n",
    "    Scatter Plot\n",
    "\n"
   ]
  },
  {
   "cell_type": "markdown",
   "id": "444faf57",
   "metadata": {},
   "source": [
    "**Heatmap**\n",
    "\n",
    "The relationship (correlation) between features (previosly determined by the train_df.corr() command)can also be displayed graphically using a heatmap. We use the Seaborn library for this basic heatmap visualisation.\n",
    "\n",
    "The correlation coefficient value will be displayed on the heatmap using the vmin and vmax parameters.\n"
   ]
  },
  {
   "cell_type": "code",
   "execution_count": 106,
   "id": "380a07f3",
   "metadata": {},
   "outputs": [
    {
     "data": {
      "image/png": "[encoded data removed]",
      "text/plain": [
       "<Figure size 720x720 with 2 Axes>"
      ]
     },
     "metadata": {},
     "output_type": "display_data"
    }
   ],
   "source": [
    "plt.figure(figsize=(10,10))\n",
    "heatmap = sns.heatmap(train_df.corr(), vmin=-1, vmax=1, annot=False)\n",
    "heatmap.set_title('Correlation Heatmap', fontdict={'fontsize':20}, pad=20);"
   ]
  },
  {
   "cell_type": "markdown",
   "id": "9abf0045",
   "metadata": {},
   "source": [
    "# TEST DATA\n",
    "\n",
    "**Let's now have a quick look at our test data**\n"
   ]
  },
  {
   "cell_type": "code",
   "execution_count": 107,
   "id": "48860653",
   "metadata": {},
   "outputs": [
    {
     "data": {
      "text/html": [
       "<div>\n",
       "<style scoped>\n",
       "    .dataframe tbody tr th:only-of-type {\n",
       "        vertical-align: middle;\n",
       "    }\n",
       "\n",
       "    .dataframe tbody tr th {\n",
       "        vertical-align: top;\n",
       "    }\n",
       "\n",
       "    .dataframe thead th {\n",
       "        text-align: right;\n",
       "    }\n",
       "</style>\n",
       "<table border=\"1\" class=\"dataframe\">\n",
       "  <thead>\n",
       "    <tr style=\"text-align: right;\">\n",
       "      <th></th>\n",
       "      <th>RowID</th>\n",
       "      <th>COL_1</th>\n",
       "      <th>COL_2</th>\n",
       "      <th>COL_3</th>\n",
       "      <th>COL_4</th>\n",
       "      <th>COL_5</th>\n",
       "    </tr>\n",
       "  </thead>\n",
       "  <tbody>\n",
       "    <tr>\n",
       "      <th>0</th>\n",
       "      <td>qdLKOakL</td>\n",
       "      <td>NaN</td>\n",
       "      <td>NaN</td>\n",
       "      <td>NaN</td>\n",
       "      <td>7.0</td>\n",
       "      <td>-10.0</td>\n",
       "    </tr>\n",
       "    <tr>\n",
       "      <th>1</th>\n",
       "      <td>EAdy7xWw</td>\n",
       "      <td>NaN</td>\n",
       "      <td>NaN</td>\n",
       "      <td>NaN</td>\n",
       "      <td>4.0</td>\n",
       "      <td>-3.0</td>\n",
       "    </tr>\n",
       "    <tr>\n",
       "      <th>2</th>\n",
       "      <td>RDk3xms3</td>\n",
       "      <td>NaN</td>\n",
       "      <td>NaN</td>\n",
       "      <td>NaN</td>\n",
       "      <td>NaN</td>\n",
       "      <td>-7.0</td>\n",
       "    </tr>\n",
       "    <tr>\n",
       "      <th>3</th>\n",
       "      <td>UqhTxf1W</td>\n",
       "      <td>145.0</td>\n",
       "      <td>VAL_B</td>\n",
       "      <td>1.0</td>\n",
       "      <td>9.0</td>\n",
       "      <td>0.0</td>\n",
       "    </tr>\n",
       "    <tr>\n",
       "      <th>4</th>\n",
       "      <td>K3btynUK</td>\n",
       "      <td>270.0</td>\n",
       "      <td>VAL_B</td>\n",
       "      <td>1.0</td>\n",
       "      <td>6.0</td>\n",
       "      <td>17.0</td>\n",
       "    </tr>\n",
       "  </tbody>\n",
       "</table>\n",
       "</div>"
      ],
      "text/plain": [
       "      RowID  COL_1  COL_2  COL_3  COL_4  COL_5\n",
       "0  qdLKOakL    NaN    NaN    NaN    7.0  -10.0\n",
       "1  EAdy7xWw    NaN    NaN    NaN    4.0   -3.0\n",
       "2  RDk3xms3    NaN    NaN    NaN    NaN   -7.0\n",
       "3  UqhTxf1W  145.0  VAL_B    1.0    9.0    0.0\n",
       "4  K3btynUK  270.0  VAL_B    1.0    6.0   17.0"
      ]
     },
     "execution_count": 107,
     "metadata": {},
     "output_type": "execute_result"
    }
   ],
   "source": [
    "test.head()"
   ]
  },
  {
   "cell_type": "code",
   "execution_count": 69,
   "id": "9e37481e",
   "metadata": {},
   "outputs": [
    {
     "data": {
      "text/plain": [
       "(20000, 6)"
      ]
     },
     "execution_count": 69,
     "metadata": {},
     "output_type": "execute_result"
    }
   ],
   "source": [
    "test.shape"
   ]
  },
  {
   "cell_type": "code",
   "execution_count": 70,
   "id": "d0187aa5",
   "metadata": {},
   "outputs": [
    {
     "data": {
      "text/html": [
       "<div>\n",
       "<style scoped>\n",
       "    .dataframe tbody tr th:only-of-type {\n",
       "        vertical-align: middle;\n",
       "    }\n",
       "\n",
       "    .dataframe tbody tr th {\n",
       "        vertical-align: top;\n",
       "    }\n",
       "\n",
       "    .dataframe thead th {\n",
       "        text-align: right;\n",
       "    }\n",
       "</style>\n",
       "<table border=\"1\" class=\"dataframe\">\n",
       "  <thead>\n",
       "    <tr style=\"text-align: right;\">\n",
       "      <th></th>\n",
       "      <th>RowID</th>\n",
       "      <th>COL_1</th>\n",
       "      <th>COL_2</th>\n",
       "      <th>COL_3</th>\n",
       "      <th>COL_4</th>\n",
       "      <th>COL_5</th>\n",
       "    </tr>\n",
       "  </thead>\n",
       "  <tbody>\n",
       "    <tr>\n",
       "      <th>0</th>\n",
       "      <td>qdLKOakL</td>\n",
       "      <td>0.0</td>\n",
       "      <td>0</td>\n",
       "      <td>0.0</td>\n",
       "      <td>7.0</td>\n",
       "      <td>-10.0</td>\n",
       "    </tr>\n",
       "    <tr>\n",
       "      <th>1</th>\n",
       "      <td>EAdy7xWw</td>\n",
       "      <td>0.0</td>\n",
       "      <td>0</td>\n",
       "      <td>0.0</td>\n",
       "      <td>4.0</td>\n",
       "      <td>-3.0</td>\n",
       "    </tr>\n",
       "    <tr>\n",
       "      <th>2</th>\n",
       "      <td>RDk3xms3</td>\n",
       "      <td>0.0</td>\n",
       "      <td>0</td>\n",
       "      <td>0.0</td>\n",
       "      <td>0.0</td>\n",
       "      <td>-7.0</td>\n",
       "    </tr>\n",
       "    <tr>\n",
       "      <th>3</th>\n",
       "      <td>UqhTxf1W</td>\n",
       "      <td>145.0</td>\n",
       "      <td>VAL_B</td>\n",
       "      <td>1.0</td>\n",
       "      <td>9.0</td>\n",
       "      <td>0.0</td>\n",
       "    </tr>\n",
       "    <tr>\n",
       "      <th>4</th>\n",
       "      <td>K3btynUK</td>\n",
       "      <td>270.0</td>\n",
       "      <td>VAL_B</td>\n",
       "      <td>1.0</td>\n",
       "      <td>6.0</td>\n",
       "      <td>17.0</td>\n",
       "    </tr>\n",
       "    <tr>\n",
       "      <th>...</th>\n",
       "      <td>...</td>\n",
       "      <td>...</td>\n",
       "      <td>...</td>\n",
       "      <td>...</td>\n",
       "      <td>...</td>\n",
       "      <td>...</td>\n",
       "    </tr>\n",
       "    <tr>\n",
       "      <th>19995</th>\n",
       "      <td>zYE7JEpg</td>\n",
       "      <td>200.0</td>\n",
       "      <td>VAL_B</td>\n",
       "      <td>2.0</td>\n",
       "      <td>15.0</td>\n",
       "      <td>20.0</td>\n",
       "    </tr>\n",
       "    <tr>\n",
       "      <th>19996</th>\n",
       "      <td>qW12HW3d</td>\n",
       "      <td>220.0</td>\n",
       "      <td>VAL_B</td>\n",
       "      <td>6.0</td>\n",
       "      <td>7.0</td>\n",
       "      <td>-1.0</td>\n",
       "    </tr>\n",
       "    <tr>\n",
       "      <th>19997</th>\n",
       "      <td>nJl1WlKN</td>\n",
       "      <td>0.0</td>\n",
       "      <td>0</td>\n",
       "      <td>0.0</td>\n",
       "      <td>14.0</td>\n",
       "      <td>-6.0</td>\n",
       "    </tr>\n",
       "    <tr>\n",
       "      <th>19998</th>\n",
       "      <td>WatcCls3</td>\n",
       "      <td>235.0</td>\n",
       "      <td>VAL_B</td>\n",
       "      <td>6.0</td>\n",
       "      <td>0.0</td>\n",
       "      <td>9.0</td>\n",
       "    </tr>\n",
       "    <tr>\n",
       "      <th>19999</th>\n",
       "      <td>DJcdi8Cb</td>\n",
       "      <td>0.0</td>\n",
       "      <td>0</td>\n",
       "      <td>0.0</td>\n",
       "      <td>9.0</td>\n",
       "      <td>12.0</td>\n",
       "    </tr>\n",
       "  </tbody>\n",
       "</table>\n",
       "<p>20000 rows × 6 columns</p>\n",
       "</div>"
      ],
      "text/plain": [
       "          RowID  COL_1  COL_2  COL_3  COL_4  COL_5\n",
       "0      qdLKOakL    0.0      0    0.0    7.0  -10.0\n",
       "1      EAdy7xWw    0.0      0    0.0    4.0   -3.0\n",
       "2      RDk3xms3    0.0      0    0.0    0.0   -7.0\n",
       "3      UqhTxf1W  145.0  VAL_B    1.0    9.0    0.0\n",
       "4      K3btynUK  270.0  VAL_B    1.0    6.0   17.0\n",
       "...         ...    ...    ...    ...    ...    ...\n",
       "19995  zYE7JEpg  200.0  VAL_B    2.0   15.0   20.0\n",
       "19996  qW12HW3d  220.0  VAL_B    6.0    7.0   -1.0\n",
       "19997  nJl1WlKN    0.0      0    0.0   14.0   -6.0\n",
       "19998  WatcCls3  235.0  VAL_B    6.0    0.0    9.0\n",
       "19999  DJcdi8Cb    0.0      0    0.0    9.0   12.0\n",
       "\n",
       "[20000 rows x 6 columns]"
      ]
     },
     "execution_count": 70,
     "metadata": {},
     "output_type": "execute_result"
    }
   ],
   "source": [
    "#replace all nAN WITH 0 \n",
    "\n",
    "\n",
    "\n",
    "# replace all NA's with 0\n",
    "test_df = test.copy()\n",
    "test_df.fillna(0)\n"
   ]
  },
  {
   "cell_type": "code",
   "execution_count": 21,
   "id": "ad1bda3b",
   "metadata": {},
   "outputs": [
    {
     "data": {
      "text/html": [
       "<div>\n",
       "<style scoped>\n",
       "    .dataframe tbody tr th:only-of-type {\n",
       "        vertical-align: middle;\n",
       "    }\n",
       "\n",
       "    .dataframe tbody tr th {\n",
       "        vertical-align: top;\n",
       "    }\n",
       "\n",
       "    .dataframe thead th {\n",
       "        text-align: right;\n",
       "    }\n",
       "</style>\n",
       "<table border=\"1\" class=\"dataframe\">\n",
       "  <thead>\n",
       "    <tr style=\"text-align: right;\">\n",
       "      <th></th>\n",
       "      <th>COL_1</th>\n",
       "      <th>COL_3</th>\n",
       "      <th>COL_4</th>\n",
       "      <th>COL_5</th>\n",
       "    </tr>\n",
       "  </thead>\n",
       "  <tbody>\n",
       "    <tr>\n",
       "      <th>count</th>\n",
       "      <td>9259.000000</td>\n",
       "      <td>9374.000000</td>\n",
       "      <td>16534.000000</td>\n",
       "      <td>19996.000000</td>\n",
       "    </tr>\n",
       "    <tr>\n",
       "      <th>mean</th>\n",
       "      <td>204.010152</td>\n",
       "      <td>4.259441</td>\n",
       "      <td>9.719608</td>\n",
       "      <td>5.054411</td>\n",
       "    </tr>\n",
       "    <tr>\n",
       "      <th>std</th>\n",
       "      <td>130.494933</td>\n",
       "      <td>2.094101</td>\n",
       "      <td>7.453641</td>\n",
       "      <td>10.929575</td>\n",
       "    </tr>\n",
       "    <tr>\n",
       "      <th>min</th>\n",
       "      <td>-3.000000</td>\n",
       "      <td>-3.000000</td>\n",
       "      <td>1.000000</td>\n",
       "      <td>-38.000000</td>\n",
       "    </tr>\n",
       "    <tr>\n",
       "      <th>25%</th>\n",
       "      <td>160.000000</td>\n",
       "      <td>3.000000</td>\n",
       "      <td>7.000000</td>\n",
       "      <td>-4.000000</td>\n",
       "    </tr>\n",
       "    <tr>\n",
       "      <th>50%</th>\n",
       "      <td>215.000000</td>\n",
       "      <td>4.000000</td>\n",
       "      <td>8.000000</td>\n",
       "      <td>4.000000</td>\n",
       "    </tr>\n",
       "    <tr>\n",
       "      <th>75%</th>\n",
       "      <td>265.000000</td>\n",
       "      <td>6.000000</td>\n",
       "      <td>10.000000</td>\n",
       "      <td>13.000000</td>\n",
       "    </tr>\n",
       "    <tr>\n",
       "      <th>max</th>\n",
       "      <td>888.000000</td>\n",
       "      <td>8.000000</td>\n",
       "      <td>55.000000</td>\n",
       "      <td>83.000000</td>\n",
       "    </tr>\n",
       "  </tbody>\n",
       "</table>\n",
       "</div>"
      ],
      "text/plain": [
       "             COL_1        COL_3         COL_4         COL_5\n",
       "count  9259.000000  9374.000000  16534.000000  19996.000000\n",
       "mean    204.010152     4.259441      9.719608      5.054411\n",
       "std     130.494933     2.094101      7.453641     10.929575\n",
       "min      -3.000000    -3.000000      1.000000    -38.000000\n",
       "25%     160.000000     3.000000      7.000000     -4.000000\n",
       "50%     215.000000     4.000000      8.000000      4.000000\n",
       "75%     265.000000     6.000000     10.000000     13.000000\n",
       "max     888.000000     8.000000     55.000000     83.000000"
      ]
     },
     "execution_count": 21,
     "metadata": {},
     "output_type": "execute_result"
    }
   ],
   "source": [
    "\n",
    "test_df.describe()"
   ]
  },
  {
   "cell_type": "markdown",
   "id": "0212c211",
   "metadata": {},
   "source": [
    "# Feature Selection"
   ]
  },
  {
   "cell_type": "markdown",
   "id": "ee74fb73",
   "metadata": {},
   "source": [
    "We look for the highest correlation with the target, and the features with the most variance. During this process, we remove features that do not maximize model performance."
   ]
  },
  {
   "cell_type": "markdown",
   "id": "962f5602",
   "metadata": {},
   "source": [
    "**Before we begin the process, let us take a look at the distribution of our SOLD:**\n"
   ]
  },
  {
   "cell_type": "code",
   "execution_count": 22,
   "id": "a6c2d34f",
   "metadata": {},
   "outputs": [
    {
     "data": {
      "text/plain": [
       "<AxesSubplot:xlabel='SOLD', ylabel='Density'>"
      ]
     },
     "execution_count": 22,
     "metadata": {},
     "output_type": "execute_result"
    },
    {
     "data": {
      "image/png": "[encoded data removed]",
      "text/plain": [
       "<Figure size 432x432 with 1 Axes>"
      ]
     },
     "metadata": {
      "needs_background": "light"
     },
     "output_type": "display_data"
    }
   ],
   "source": [
    "# target distribution\n",
    "plt.figure(figsize=(6,6))\n",
    "sns.distplot(train_df['SOLD'],kde=True)"
   ]
  },
  {
   "cell_type": "markdown",
   "id": "f2ea10a3",
   "metadata": {},
   "source": [
    "The data seems to be fairly distributed around the mean."
   ]
  },
  {
   "cell_type": "code",
   "execution_count": 78,
   "id": "d9a85746",
   "metadata": {},
   "outputs": [
    {
     "data": {
      "text/plain": [
       "87802    1\n",
       "96516    1\n",
       "40551    1\n",
       "91359    1\n",
       "11077    1\n",
       "Name: SOLD, dtype: int64"
      ]
     },
     "execution_count": 78,
     "metadata": {},
     "output_type": "execute_result"
    }
   ],
   "source": [
    "train['SOLD'].sort_values(ascending=False)[:5]"
   ]
  },
  {
   "cell_type": "code",
   "execution_count": 82,
   "id": "956be3cb",
   "metadata": {},
   "outputs": [
    {
     "data": {
      "text/html": [
       "<div>\n",
       "<style scoped>\n",
       "    .dataframe tbody tr th:only-of-type {\n",
       "        vertical-align: middle;\n",
       "    }\n",
       "\n",
       "    .dataframe tbody tr th {\n",
       "        vertical-align: top;\n",
       "    }\n",
       "\n",
       "    .dataframe thead th {\n",
       "        text-align: right;\n",
       "    }\n",
       "</style>\n",
       "<table border=\"1\" class=\"dataframe\">\n",
       "  <thead>\n",
       "    <tr style=\"text-align: right;\">\n",
       "      <th></th>\n",
       "      <th>RowID</th>\n",
       "      <th>COL_1</th>\n",
       "      <th>COL_2</th>\n",
       "      <th>COL_3</th>\n",
       "      <th>COL_4</th>\n",
       "      <th>COL_5</th>\n",
       "      <th>SOLD</th>\n",
       "    </tr>\n",
       "  </thead>\n",
       "  <tbody>\n",
       "  </tbody>\n",
       "</table>\n",
       "</div>"
      ],
      "text/plain": [
       "Empty DataFrame\n",
       "Columns: [RowID, COL_1, COL_2, COL_3, COL_4, COL_5, SOLD]\n",
       "Index: []"
      ]
     },
     "execution_count": 82,
     "metadata": {},
     "output_type": "execute_result"
    }
   ],
   "source": [
    "train[train['SOLD'] == 11077]"
   ]
  },
  {
   "cell_type": "code",
   "execution_count": 83,
   "id": "6ff8b3e8",
   "metadata": {},
   "outputs": [
    {
     "data": {
      "text/plain": [
       "0        0\n",
       "64656    0\n",
       "64655    0\n",
       "64654    0\n",
       "64653    0\n",
       "Name: SOLD, dtype: int64"
      ]
     },
     "execution_count": 83,
     "metadata": {},
     "output_type": "execute_result"
    }
   ],
   "source": [
    "train['SOLD'].sort_values()[:5]"
   ]
  },
  {
   "cell_type": "code",
   "execution_count": 85,
   "id": "709291ba",
   "metadata": {},
   "outputs": [
    {
     "data": {
      "text/html": [
       "<div>\n",
       "<style scoped>\n",
       "    .dataframe tbody tr th:only-of-type {\n",
       "        vertical-align: middle;\n",
       "    }\n",
       "\n",
       "    .dataframe tbody tr th {\n",
       "        vertical-align: top;\n",
       "    }\n",
       "\n",
       "    .dataframe thead th {\n",
       "        text-align: right;\n",
       "    }\n",
       "</style>\n",
       "<table border=\"1\" class=\"dataframe\">\n",
       "  <thead>\n",
       "    <tr style=\"text-align: right;\">\n",
       "      <th></th>\n",
       "      <th>RowID</th>\n",
       "      <th>COL_1</th>\n",
       "      <th>COL_2</th>\n",
       "      <th>COL_3</th>\n",
       "      <th>COL_4</th>\n",
       "      <th>COL_5</th>\n",
       "      <th>SOLD</th>\n",
       "    </tr>\n",
       "  </thead>\n",
       "  <tbody>\n",
       "    <tr>\n",
       "      <th>12</th>\n",
       "      <td>IBURE3Hg</td>\n",
       "      <td>225.0</td>\n",
       "      <td>VAL_B</td>\n",
       "      <td>3.0</td>\n",
       "      <td>3.0</td>\n",
       "      <td>12.0</td>\n",
       "      <td>1</td>\n",
       "    </tr>\n",
       "    <tr>\n",
       "      <th>21</th>\n",
       "      <td>9i9RO0FA</td>\n",
       "      <td>-3.0</td>\n",
       "      <td>VAL_B</td>\n",
       "      <td>4.0</td>\n",
       "      <td>3.0</td>\n",
       "      <td>-9.0</td>\n",
       "      <td>1</td>\n",
       "    </tr>\n",
       "    <tr>\n",
       "      <th>119</th>\n",
       "      <td>gk5Mqm0x</td>\n",
       "      <td>-3.0</td>\n",
       "      <td>VAL_A</td>\n",
       "      <td>5.0</td>\n",
       "      <td>9.0</td>\n",
       "      <td>15.0</td>\n",
       "      <td>1</td>\n",
       "    </tr>\n",
       "    <tr>\n",
       "      <th>156</th>\n",
       "      <td>nDwI1K7b</td>\n",
       "      <td>255.0</td>\n",
       "      <td>VAL_B</td>\n",
       "      <td>1.0</td>\n",
       "      <td>2.0</td>\n",
       "      <td>6.0</td>\n",
       "      <td>1</td>\n",
       "    </tr>\n",
       "    <tr>\n",
       "      <th>208</th>\n",
       "      <td>Qjj1QzBQ</td>\n",
       "      <td>230.0</td>\n",
       "      <td>VAL_B</td>\n",
       "      <td>5.0</td>\n",
       "      <td>3.0</td>\n",
       "      <td>7.0</td>\n",
       "      <td>1</td>\n",
       "    </tr>\n",
       "    <tr>\n",
       "      <th>...</th>\n",
       "      <td>...</td>\n",
       "      <td>...</td>\n",
       "      <td>...</td>\n",
       "      <td>...</td>\n",
       "      <td>...</td>\n",
       "      <td>...</td>\n",
       "      <td>...</td>\n",
       "    </tr>\n",
       "    <tr>\n",
       "      <th>95914</th>\n",
       "      <td>Rc5rPTyi</td>\n",
       "      <td>-3.0</td>\n",
       "      <td>VAL_B</td>\n",
       "      <td>4.0</td>\n",
       "      <td>7.0</td>\n",
       "      <td>9.0</td>\n",
       "      <td>1</td>\n",
       "    </tr>\n",
       "    <tr>\n",
       "      <th>96151</th>\n",
       "      <td>0YJBb6uK</td>\n",
       "      <td>230.0</td>\n",
       "      <td>VAL_B</td>\n",
       "      <td>3.0</td>\n",
       "      <td>NaN</td>\n",
       "      <td>-13.0</td>\n",
       "      <td>1</td>\n",
       "    </tr>\n",
       "    <tr>\n",
       "      <th>96516</th>\n",
       "      <td>QU9emGN4</td>\n",
       "      <td>315.0</td>\n",
       "      <td>VAL_B</td>\n",
       "      <td>5.0</td>\n",
       "      <td>2.0</td>\n",
       "      <td>1.0</td>\n",
       "      <td>1</td>\n",
       "    </tr>\n",
       "    <tr>\n",
       "      <th>96956</th>\n",
       "      <td>Iej33HfG</td>\n",
       "      <td>-3.0</td>\n",
       "      <td>VAL_A</td>\n",
       "      <td>7.0</td>\n",
       "      <td>7.0</td>\n",
       "      <td>4.0</td>\n",
       "      <td>1</td>\n",
       "    </tr>\n",
       "    <tr>\n",
       "      <th>97080</th>\n",
       "      <td>QK7MBz3J</td>\n",
       "      <td>190.0</td>\n",
       "      <td>VAL_B</td>\n",
       "      <td>4.0</td>\n",
       "      <td>3.0</td>\n",
       "      <td>8.0</td>\n",
       "      <td>1</td>\n",
       "    </tr>\n",
       "  </tbody>\n",
       "</table>\n",
       "<p>484 rows × 7 columns</p>\n",
       "</div>"
      ],
      "text/plain": [
       "          RowID  COL_1  COL_2  COL_3  COL_4  COL_5  SOLD\n",
       "12     IBURE3Hg  225.0  VAL_B    3.0    3.0   12.0     1\n",
       "21     9i9RO0FA   -3.0  VAL_B    4.0    3.0   -9.0     1\n",
       "119    gk5Mqm0x   -3.0  VAL_A    5.0    9.0   15.0     1\n",
       "156    nDwI1K7b  255.0  VAL_B    1.0    2.0    6.0     1\n",
       "208    Qjj1QzBQ  230.0  VAL_B    5.0    3.0    7.0     1\n",
       "...         ...    ...    ...    ...    ...    ...   ...\n",
       "95914  Rc5rPTyi   -3.0  VAL_B    4.0    7.0    9.0     1\n",
       "96151  0YJBb6uK  230.0  VAL_B    3.0    NaN  -13.0     1\n",
       "96516  QU9emGN4  315.0  VAL_B    5.0    2.0    1.0     1\n",
       "96956  Iej33HfG   -3.0  VAL_A    7.0    7.0    4.0     1\n",
       "97080  QK7MBz3J  190.0  VAL_B    4.0    3.0    8.0     1\n",
       "\n",
       "[484 rows x 7 columns]"
      ]
     },
     "execution_count": 85,
     "metadata": {},
     "output_type": "execute_result"
    }
   ],
   "source": [
    "train[train['SOLD'] == 1]"
   ]
  },
  {
   "cell_type": "code",
   "execution_count": 86,
   "id": "3a21ed6b",
   "metadata": {},
   "outputs": [
    {
     "data": {
      "text/html": [
       "<div>\n",
       "<style scoped>\n",
       "    .dataframe tbody tr th:only-of-type {\n",
       "        vertical-align: middle;\n",
       "    }\n",
       "\n",
       "    .dataframe tbody tr th {\n",
       "        vertical-align: top;\n",
       "    }\n",
       "\n",
       "    .dataframe thead th {\n",
       "        text-align: right;\n",
       "    }\n",
       "</style>\n",
       "<table border=\"1\" class=\"dataframe\">\n",
       "  <thead>\n",
       "    <tr style=\"text-align: right;\">\n",
       "      <th></th>\n",
       "      <th>RowID</th>\n",
       "      <th>COL_1</th>\n",
       "      <th>COL_2</th>\n",
       "      <th>COL_3</th>\n",
       "      <th>COL_4</th>\n",
       "      <th>COL_5</th>\n",
       "      <th>SOLD</th>\n",
       "    </tr>\n",
       "  </thead>\n",
       "  <tbody>\n",
       "    <tr>\n",
       "      <th>0</th>\n",
       "      <td>1yEGeg9E</td>\n",
       "      <td>190.0</td>\n",
       "      <td>VAL_A</td>\n",
       "      <td>7.0</td>\n",
       "      <td>4.0</td>\n",
       "      <td>-4.0</td>\n",
       "      <td>0</td>\n",
       "    </tr>\n",
       "    <tr>\n",
       "      <th>1</th>\n",
       "      <td>fEaDXHiD</td>\n",
       "      <td>215.0</td>\n",
       "      <td>VAL_B</td>\n",
       "      <td>7.0</td>\n",
       "      <td>8.0</td>\n",
       "      <td>-1.0</td>\n",
       "      <td>0</td>\n",
       "    </tr>\n",
       "    <tr>\n",
       "      <th>2</th>\n",
       "      <td>NMc0TKTM</td>\n",
       "      <td>NaN</td>\n",
       "      <td>NaN</td>\n",
       "      <td>NaN</td>\n",
       "      <td>28.0</td>\n",
       "      <td>18.0</td>\n",
       "      <td>0</td>\n",
       "    </tr>\n",
       "    <tr>\n",
       "      <th>3</th>\n",
       "      <td>OM0YAyZe</td>\n",
       "      <td>NaN</td>\n",
       "      <td>NaN</td>\n",
       "      <td>NaN</td>\n",
       "      <td>50.0</td>\n",
       "      <td>4.0</td>\n",
       "      <td>0</td>\n",
       "    </tr>\n",
       "    <tr>\n",
       "      <th>4</th>\n",
       "      <td>L4Ntlncn</td>\n",
       "      <td>NaN</td>\n",
       "      <td>NaN</td>\n",
       "      <td>NaN</td>\n",
       "      <td>14.0</td>\n",
       "      <td>23.0</td>\n",
       "      <td>0</td>\n",
       "    </tr>\n",
       "    <tr>\n",
       "      <th>...</th>\n",
       "      <td>...</td>\n",
       "      <td>...</td>\n",
       "      <td>...</td>\n",
       "      <td>...</td>\n",
       "      <td>...</td>\n",
       "      <td>...</td>\n",
       "      <td>...</td>\n",
       "    </tr>\n",
       "    <tr>\n",
       "      <th>97081</th>\n",
       "      <td>aAy1WY9w</td>\n",
       "      <td>NaN</td>\n",
       "      <td>NaN</td>\n",
       "      <td>NaN</td>\n",
       "      <td>NaN</td>\n",
       "      <td>-6.0</td>\n",
       "      <td>0</td>\n",
       "    </tr>\n",
       "    <tr>\n",
       "      <th>97082</th>\n",
       "      <td>NSwGsRtM</td>\n",
       "      <td>285.0</td>\n",
       "      <td>VAL_A</td>\n",
       "      <td>5.0</td>\n",
       "      <td>7.0</td>\n",
       "      <td>-1.0</td>\n",
       "      <td>0</td>\n",
       "    </tr>\n",
       "    <tr>\n",
       "      <th>97083</th>\n",
       "      <td>4q5ZQqlc</td>\n",
       "      <td>275.0</td>\n",
       "      <td>VAL_B</td>\n",
       "      <td>2.0</td>\n",
       "      <td>8.0</td>\n",
       "      <td>0.0</td>\n",
       "      <td>0</td>\n",
       "    </tr>\n",
       "    <tr>\n",
       "      <th>97084</th>\n",
       "      <td>8lY3uHwR</td>\n",
       "      <td>175.0</td>\n",
       "      <td>VAL_B</td>\n",
       "      <td>3.0</td>\n",
       "      <td>5.0</td>\n",
       "      <td>31.0</td>\n",
       "      <td>0</td>\n",
       "    </tr>\n",
       "    <tr>\n",
       "      <th>97085</th>\n",
       "      <td>VUl0eI0H</td>\n",
       "      <td>300.0</td>\n",
       "      <td>VAL_B</td>\n",
       "      <td>6.0</td>\n",
       "      <td>4.0</td>\n",
       "      <td>22.0</td>\n",
       "      <td>0</td>\n",
       "    </tr>\n",
       "  </tbody>\n",
       "</table>\n",
       "<p>96602 rows × 7 columns</p>\n",
       "</div>"
      ],
      "text/plain": [
       "          RowID  COL_1  COL_2  COL_3  COL_4  COL_5  SOLD\n",
       "0      1yEGeg9E  190.0  VAL_A    7.0    4.0   -4.0     0\n",
       "1      fEaDXHiD  215.0  VAL_B    7.0    8.0   -1.0     0\n",
       "2      NMc0TKTM    NaN    NaN    NaN   28.0   18.0     0\n",
       "3      OM0YAyZe    NaN    NaN    NaN   50.0    4.0     0\n",
       "4      L4Ntlncn    NaN    NaN    NaN   14.0   23.0     0\n",
       "...         ...    ...    ...    ...    ...    ...   ...\n",
       "97081  aAy1WY9w    NaN    NaN    NaN    NaN   -6.0     0\n",
       "97082  NSwGsRtM  285.0  VAL_A    5.0    7.0   -1.0     0\n",
       "97083  4q5ZQqlc  275.0  VAL_B    2.0    8.0    0.0     0\n",
       "97084  8lY3uHwR  175.0  VAL_B    3.0    5.0   31.0     0\n",
       "97085  VUl0eI0H  300.0  VAL_B    6.0    4.0   22.0     0\n",
       "\n",
       "[96602 rows x 7 columns]"
      ]
     },
     "execution_count": 86,
     "metadata": {},
     "output_type": "execute_result"
    }
   ],
   "source": [
    "train[train['SOLD'] == 0]"
   ]
  },
  {
   "cell_type": "markdown",
   "id": "2a926686",
   "metadata": {},
   "source": [
    "# Prepocessing"
   ]
  },
  {
   "cell_type": "code",
   "execution_count": null,
   "id": "ebbab309",
   "metadata": {},
   "outputs": [],
   "source": []
  },
  {
   "cell_type": "markdown",
   "id": "2c76be69",
   "metadata": {},
   "source": [
    "Dropping columns"
   ]
  },
  {
   "cell_type": "code",
   "execution_count": 23,
   "id": "6b6c3a2b",
   "metadata": {},
   "outputs": [
    {
     "data": {
      "text/html": [
       "<div>\n",
       "<style scoped>\n",
       "    .dataframe tbody tr th:only-of-type {\n",
       "        vertical-align: middle;\n",
       "    }\n",
       "\n",
       "    .dataframe tbody tr th {\n",
       "        vertical-align: top;\n",
       "    }\n",
       "\n",
       "    .dataframe thead th {\n",
       "        text-align: right;\n",
       "    }\n",
       "</style>\n",
       "<table border=\"1\" class=\"dataframe\">\n",
       "  <thead>\n",
       "    <tr style=\"text-align: right;\">\n",
       "      <th></th>\n",
       "      <th>RowID</th>\n",
       "      <th>COL_1</th>\n",
       "      <th>COL_3</th>\n",
       "      <th>COL_4</th>\n",
       "      <th>COL_5</th>\n",
       "      <th>SOLD</th>\n",
       "    </tr>\n",
       "  </thead>\n",
       "  <tbody>\n",
       "    <tr>\n",
       "      <th>0</th>\n",
       "      <td>1yEGeg9E</td>\n",
       "      <td>190.0</td>\n",
       "      <td>7.0</td>\n",
       "      <td>4.0</td>\n",
       "      <td>-4.0</td>\n",
       "      <td>0</td>\n",
       "    </tr>\n",
       "    <tr>\n",
       "      <th>1</th>\n",
       "      <td>fEaDXHiD</td>\n",
       "      <td>215.0</td>\n",
       "      <td>7.0</td>\n",
       "      <td>8.0</td>\n",
       "      <td>-1.0</td>\n",
       "      <td>0</td>\n",
       "    </tr>\n",
       "    <tr>\n",
       "      <th>2</th>\n",
       "      <td>NMc0TKTM</td>\n",
       "      <td>NaN</td>\n",
       "      <td>NaN</td>\n",
       "      <td>28.0</td>\n",
       "      <td>18.0</td>\n",
       "      <td>0</td>\n",
       "    </tr>\n",
       "    <tr>\n",
       "      <th>3</th>\n",
       "      <td>OM0YAyZe</td>\n",
       "      <td>NaN</td>\n",
       "      <td>NaN</td>\n",
       "      <td>50.0</td>\n",
       "      <td>4.0</td>\n",
       "      <td>0</td>\n",
       "    </tr>\n",
       "    <tr>\n",
       "      <th>4</th>\n",
       "      <td>L4Ntlncn</td>\n",
       "      <td>NaN</td>\n",
       "      <td>NaN</td>\n",
       "      <td>14.0</td>\n",
       "      <td>23.0</td>\n",
       "      <td>0</td>\n",
       "    </tr>\n",
       "  </tbody>\n",
       "</table>\n",
       "</div>"
      ],
      "text/plain": [
       "      RowID  COL_1  COL_3  COL_4  COL_5  SOLD\n",
       "0  1yEGeg9E  190.0    7.0    4.0   -4.0     0\n",
       "1  fEaDXHiD  215.0    7.0    8.0   -1.0     0\n",
       "2  NMc0TKTM    NaN    NaN   28.0   18.0     0\n",
       "3  OM0YAyZe    NaN    NaN   50.0    4.0     0\n",
       "4  L4Ntlncn    NaN    NaN   14.0   23.0     0"
      ]
     },
     "execution_count": 23,
     "metadata": {},
     "output_type": "execute_result"
    }
   ],
   "source": [
    "train_df = train_df.drop(['COL_2'], axis=1)\n",
    "train_df.head()"
   ]
  },
  {
   "cell_type": "markdown",
   "id": "521778ba",
   "metadata": {},
   "source": [
    "\n",
    "    COL2 was removed to improve accuracy, since none of the dates were significantly correlated with the response variable avg_price_per_kg. Continued use of the date column significantly increased the number of our features, and caused some inefficiencies.\n",
    "    Upon doing dummy encoding on all the data, the SOLD column ended up with 1's, making it a redundant variable.\n"
   ]
  },
  {
   "cell_type": "markdown",
   "id": "298face5",
   "metadata": {},
   "source": [
    "REPEAT FOR TEST DATA"
   ]
  },
  {
   "cell_type": "code",
   "execution_count": 24,
   "id": "d1d071e2",
   "metadata": {},
   "outputs": [
    {
     "data": {
      "text/html": [
       "<div>\n",
       "<style scoped>\n",
       "    .dataframe tbody tr th:only-of-type {\n",
       "        vertical-align: middle;\n",
       "    }\n",
       "\n",
       "    .dataframe tbody tr th {\n",
       "        vertical-align: top;\n",
       "    }\n",
       "\n",
       "    .dataframe thead th {\n",
       "        text-align: right;\n",
       "    }\n",
       "</style>\n",
       "<table border=\"1\" class=\"dataframe\">\n",
       "  <thead>\n",
       "    <tr style=\"text-align: right;\">\n",
       "      <th></th>\n",
       "      <th>RowID</th>\n",
       "      <th>COL_1</th>\n",
       "      <th>COL_3</th>\n",
       "      <th>COL_4</th>\n",
       "      <th>COL_5</th>\n",
       "      <th>SOLD</th>\n",
       "    </tr>\n",
       "  </thead>\n",
       "  <tbody>\n",
       "    <tr>\n",
       "      <th>0</th>\n",
       "      <td>1yEGeg9E</td>\n",
       "      <td>190.0</td>\n",
       "      <td>7.0</td>\n",
       "      <td>4.0</td>\n",
       "      <td>-4.0</td>\n",
       "      <td>0</td>\n",
       "    </tr>\n",
       "    <tr>\n",
       "      <th>1</th>\n",
       "      <td>fEaDXHiD</td>\n",
       "      <td>215.0</td>\n",
       "      <td>7.0</td>\n",
       "      <td>8.0</td>\n",
       "      <td>-1.0</td>\n",
       "      <td>0</td>\n",
       "    </tr>\n",
       "    <tr>\n",
       "      <th>2</th>\n",
       "      <td>NMc0TKTM</td>\n",
       "      <td>NaN</td>\n",
       "      <td>NaN</td>\n",
       "      <td>28.0</td>\n",
       "      <td>18.0</td>\n",
       "      <td>0</td>\n",
       "    </tr>\n",
       "    <tr>\n",
       "      <th>3</th>\n",
       "      <td>OM0YAyZe</td>\n",
       "      <td>NaN</td>\n",
       "      <td>NaN</td>\n",
       "      <td>50.0</td>\n",
       "      <td>4.0</td>\n",
       "      <td>0</td>\n",
       "    </tr>\n",
       "    <tr>\n",
       "      <th>4</th>\n",
       "      <td>L4Ntlncn</td>\n",
       "      <td>NaN</td>\n",
       "      <td>NaN</td>\n",
       "      <td>14.0</td>\n",
       "      <td>23.0</td>\n",
       "      <td>0</td>\n",
       "    </tr>\n",
       "  </tbody>\n",
       "</table>\n",
       "</div>"
      ],
      "text/plain": [
       "      RowID  COL_1  COL_3  COL_4  COL_5  SOLD\n",
       "0  1yEGeg9E  190.0    7.0    4.0   -4.0     0\n",
       "1  fEaDXHiD  215.0    7.0    8.0   -1.0     0\n",
       "2  NMc0TKTM    NaN    NaN   28.0   18.0     0\n",
       "3  OM0YAyZe    NaN    NaN   50.0    4.0     0\n",
       "4  L4Ntlncn    NaN    NaN   14.0   23.0     0"
      ]
     },
     "execution_count": 24,
     "metadata": {},
     "output_type": "execute_result"
    }
   ],
   "source": [
    "test_df = test_df.drop(['COL_2'], axis=1)\n",
    "train_df.head()"
   ]
  },
  {
   "cell_type": "markdown",
   "id": "1f60aa22",
   "metadata": {},
   "source": [
    "As previously determined, there is a presence of outliers in our features. Outliers are defined as data points that differ significantly from other observations, thus affecting the range and distribution of data. Machine learning models are sensitive to the range and distribution of data. We want our model to learn from the actual trend and not the noise. By removing outlier we attempt to reduce th noise in the data.\n",
    "\n",
    "Seeing that our features are not symmetric (normally distributed), use the Interquartile Range method to determine and remove the outliers. The following function removes outliers from all the features:\n"
   ]
  },
  {
   "cell_type": "markdown",
   "id": "681fcec4",
   "metadata": {},
   "source": [
    "**Dummy Encoding Variables**\n",
    "\n",
    "In the process of model prediction, all variables need to be numeric. As we've observed that, our data contains some categorical/text data (Province, Container, Size_Grade), which we need to transform into numbers before we can train our model. To do this, we use a Pandas method called get_dummies(). The method will transform all the categorical text data into numbers by adding a column for each distinct category\n"
   ]
  },
  {
   "cell_type": "code",
   "execution_count": 27,
   "id": "d52d445d",
   "metadata": {},
   "outputs": [
    {
     "data": {
      "text/html": [
       "<div>\n",
       "<style scoped>\n",
       "    .dataframe tbody tr th:only-of-type {\n",
       "        vertical-align: middle;\n",
       "    }\n",
       "\n",
       "    .dataframe tbody tr th {\n",
       "        vertical-align: top;\n",
       "    }\n",
       "\n",
       "    .dataframe thead th {\n",
       "        text-align: right;\n",
       "    }\n",
       "</style>\n",
       "<table border=\"1\" class=\"dataframe\">\n",
       "  <thead>\n",
       "    <tr style=\"text-align: right;\">\n",
       "      <th></th>\n",
       "      <th>COL_1</th>\n",
       "      <th>COL_3</th>\n",
       "      <th>COL_4</th>\n",
       "      <th>COL_5</th>\n",
       "      <th>SOLD</th>\n",
       "      <th>RowID_001ZhvBL</th>\n",
       "      <th>RowID_004gCfrb</th>\n",
       "      <th>RowID_00ARKMNx</th>\n",
       "      <th>RowID_00BMtdrH</th>\n",
       "      <th>RowID_00De16tP</th>\n",
       "      <th>...</th>\n",
       "      <th>RowID_zzg0hZXW</th>\n",
       "      <th>RowID_zzkEcoCX</th>\n",
       "      <th>RowID_zzkNat9f</th>\n",
       "      <th>RowID_zzlD1yny</th>\n",
       "      <th>RowID_zzoMlelx</th>\n",
       "      <th>RowID_zzpDnUiN</th>\n",
       "      <th>RowID_zzpdoFP1</th>\n",
       "      <th>RowID_zzvcY7ua</th>\n",
       "      <th>RowID_zzy7M2m9</th>\n",
       "      <th>RowID_zzzYiGyZ</th>\n",
       "    </tr>\n",
       "  </thead>\n",
       "  <tbody>\n",
       "    <tr>\n",
       "      <th>0</th>\n",
       "      <td>190.0</td>\n",
       "      <td>7.0</td>\n",
       "      <td>4.0</td>\n",
       "      <td>-4.0</td>\n",
       "      <td>0</td>\n",
       "      <td>0</td>\n",
       "      <td>0</td>\n",
       "      <td>0</td>\n",
       "      <td>0</td>\n",
       "      <td>0</td>\n",
       "      <td>...</td>\n",
       "      <td>0</td>\n",
       "      <td>0</td>\n",
       "      <td>0</td>\n",
       "      <td>0</td>\n",
       "      <td>0</td>\n",
       "      <td>0</td>\n",
       "      <td>0</td>\n",
       "      <td>0</td>\n",
       "      <td>0</td>\n",
       "      <td>0</td>\n",
       "    </tr>\n",
       "    <tr>\n",
       "      <th>1</th>\n",
       "      <td>215.0</td>\n",
       "      <td>7.0</td>\n",
       "      <td>8.0</td>\n",
       "      <td>-1.0</td>\n",
       "      <td>0</td>\n",
       "      <td>0</td>\n",
       "      <td>0</td>\n",
       "      <td>0</td>\n",
       "      <td>0</td>\n",
       "      <td>0</td>\n",
       "      <td>...</td>\n",
       "      <td>0</td>\n",
       "      <td>0</td>\n",
       "      <td>0</td>\n",
       "      <td>0</td>\n",
       "      <td>0</td>\n",
       "      <td>0</td>\n",
       "      <td>0</td>\n",
       "      <td>0</td>\n",
       "      <td>0</td>\n",
       "      <td>0</td>\n",
       "    </tr>\n",
       "    <tr>\n",
       "      <th>2</th>\n",
       "      <td>NaN</td>\n",
       "      <td>NaN</td>\n",
       "      <td>28.0</td>\n",
       "      <td>18.0</td>\n",
       "      <td>0</td>\n",
       "      <td>0</td>\n",
       "      <td>0</td>\n",
       "      <td>0</td>\n",
       "      <td>0</td>\n",
       "      <td>0</td>\n",
       "      <td>...</td>\n",
       "      <td>0</td>\n",
       "      <td>0</td>\n",
       "      <td>0</td>\n",
       "      <td>0</td>\n",
       "      <td>0</td>\n",
       "      <td>0</td>\n",
       "      <td>0</td>\n",
       "      <td>0</td>\n",
       "      <td>0</td>\n",
       "      <td>0</td>\n",
       "    </tr>\n",
       "    <tr>\n",
       "      <th>3</th>\n",
       "      <td>NaN</td>\n",
       "      <td>NaN</td>\n",
       "      <td>50.0</td>\n",
       "      <td>4.0</td>\n",
       "      <td>0</td>\n",
       "      <td>0</td>\n",
       "      <td>0</td>\n",
       "      <td>0</td>\n",
       "      <td>0</td>\n",
       "      <td>0</td>\n",
       "      <td>...</td>\n",
       "      <td>0</td>\n",
       "      <td>0</td>\n",
       "      <td>0</td>\n",
       "      <td>0</td>\n",
       "      <td>0</td>\n",
       "      <td>0</td>\n",
       "      <td>0</td>\n",
       "      <td>0</td>\n",
       "      <td>0</td>\n",
       "      <td>0</td>\n",
       "    </tr>\n",
       "    <tr>\n",
       "      <th>4</th>\n",
       "      <td>NaN</td>\n",
       "      <td>NaN</td>\n",
       "      <td>14.0</td>\n",
       "      <td>23.0</td>\n",
       "      <td>0</td>\n",
       "      <td>0</td>\n",
       "      <td>0</td>\n",
       "      <td>0</td>\n",
       "      <td>0</td>\n",
       "      <td>0</td>\n",
       "      <td>...</td>\n",
       "      <td>0</td>\n",
       "      <td>0</td>\n",
       "      <td>0</td>\n",
       "      <td>0</td>\n",
       "      <td>0</td>\n",
       "      <td>0</td>\n",
       "      <td>0</td>\n",
       "      <td>0</td>\n",
       "      <td>0</td>\n",
       "      <td>0</td>\n",
       "    </tr>\n",
       "  </tbody>\n",
       "</table>\n",
       "<p>5 rows × 97090 columns</p>\n",
       "</div>"
      ],
      "text/plain": [
       "   COL_1  COL_3  COL_4  COL_5  SOLD  RowID_001ZhvBL  RowID_004gCfrb  \\\n",
       "0  190.0    7.0    4.0   -4.0     0               0               0   \n",
       "1  215.0    7.0    8.0   -1.0     0               0               0   \n",
       "2    NaN    NaN   28.0   18.0     0               0               0   \n",
       "3    NaN    NaN   50.0    4.0     0               0               0   \n",
       "4    NaN    NaN   14.0   23.0     0               0               0   \n",
       "\n",
       "   RowID_00ARKMNx  RowID_00BMtdrH  RowID_00De16tP  ...  RowID_zzg0hZXW  \\\n",
       "0               0               0               0  ...               0   \n",
       "1               0               0               0  ...               0   \n",
       "2               0               0               0  ...               0   \n",
       "3               0               0               0  ...               0   \n",
       "4               0               0               0  ...               0   \n",
       "\n",
       "   RowID_zzkEcoCX  RowID_zzkNat9f  RowID_zzlD1yny  RowID_zzoMlelx  \\\n",
       "0               0               0               0               0   \n",
       "1               0               0               0               0   \n",
       "2               0               0               0               0   \n",
       "3               0               0               0               0   \n",
       "4               0               0               0               0   \n",
       "\n",
       "   RowID_zzpDnUiN  RowID_zzpdoFP1  RowID_zzvcY7ua  RowID_zzy7M2m9  \\\n",
       "0               0               0               0               0   \n",
       "1               0               0               0               0   \n",
       "2               0               0               0               0   \n",
       "3               0               0               0               0   \n",
       "4               0               0               0               0   \n",
       "\n",
       "   RowID_zzzYiGyZ  \n",
       "0               0  \n",
       "1               0  \n",
       "2               0  \n",
       "3               0  \n",
       "4               0  \n",
       "\n",
       "[5 rows x 97090 columns]"
      ]
     },
     "execution_count": 27,
     "metadata": {},
     "output_type": "execute_result"
    }
   ],
   "source": [
    "dummy_train_df = pd.get_dummies(train_df,drop_first = True)\n",
    "dummy_train_df.head()"
   ]
  },
  {
   "cell_type": "code",
   "execution_count": 32,
   "id": "ccb6ac1f",
   "metadata": {},
   "outputs": [],
   "source": [
    "# split data into predictors and response \n",
    "\n",
    "y = dummy_train_df['SOLD']"
   ]
  },
  {
   "cell_type": "code",
   "execution_count": 38,
   "id": "daa96fc7",
   "metadata": {},
   "outputs": [],
   "source": [
    "y_data = dummy_train_df['SOLD'] "
   ]
  },
  {
   "cell_type": "code",
   "execution_count": 72,
   "id": "2e0e848a",
   "metadata": {},
   "outputs": [],
   "source": [
    "from sklearn.metrics import roc_auc_score, roc_curve, auc\n",
    "from sklearn.metrics import classification_report, confusion_matrix\n",
    "from sklearn.model_selection import train_test_split\n",
    "from sklearn import preprocessing\n",
    "from sklearn.model_selection import cross_val_score"
   ]
  },
  {
   "cell_type": "code",
   "execution_count": 73,
   "id": "11b18a9a",
   "metadata": {},
   "outputs": [],
   "source": [
    "X = preprocessing.scale(dummy_train_df.iloc[:, 1:43].values)\n",
    "X_feature = dummy_train_df.iloc[:, 1:43].columns\n",
    "\n",
    "y = dummy_train_df.iloc[:, 3].values\n",
    "\n",
    "# Split dataset into training set and test set\n",
    "# 70% training and 30% test\n",
    "X_train, X_test, y_train, y_test = train_test_split(X, y, test_size=0.3, random_state=40)"
   ]
  },
  {
   "cell_type": "code",
   "execution_count": 74,
   "id": "0fd18eb6",
   "metadata": {},
   "outputs": [
    {
     "name": "stdout",
     "output_type": "stream",
     "text": [
      "X_train shape: (67960, 42)\n",
      "y_train shape: (67960,)\n",
      "X_test shape: (29126, 42)\n",
      "y_test shape: (29126,)\n"
     ]
    }
   ],
   "source": [
    "print(\"X_train shape: {}\".format(X_train.shape))\n",
    "print(\"y_train shape: {}\".format(y_train.shape))\n",
    "print(\"X_test shape: {}\".format(X_test.shape))\n",
    "print(\"y_test shape: {}\".format(y_test.shape))"
   ]
  },
  {
   "cell_type": "code",
   "execution_count": 76,
   "id": "aa6da298",
   "metadata": {},
   "outputs": [
    {
     "data": {
      "text/html": [
       "<div>\n",
       "<style scoped>\n",
       "    .dataframe tbody tr th:only-of-type {\n",
       "        vertical-align: middle;\n",
       "    }\n",
       "\n",
       "    .dataframe tbody tr th {\n",
       "        vertical-align: top;\n",
       "    }\n",
       "\n",
       "    .dataframe thead th {\n",
       "        text-align: right;\n",
       "    }\n",
       "</style>\n",
       "<table border=\"1\" class=\"dataframe\">\n",
       "  <thead>\n",
       "    <tr style=\"text-align: right;\">\n",
       "      <th></th>\n",
       "      <th>COL_3</th>\n",
       "      <th>COL_4</th>\n",
       "      <th>COL_5</th>\n",
       "      <th>SOLD</th>\n",
       "      <th>RowID_001ZhvBL</th>\n",
       "      <th>RowID_004gCfrb</th>\n",
       "      <th>RowID_00ARKMNx</th>\n",
       "      <th>RowID_00BMtdrH</th>\n",
       "      <th>RowID_00De16tP</th>\n",
       "      <th>RowID_00E2syLQ</th>\n",
       "      <th>...</th>\n",
       "      <th>RowID_01HUPXX7</th>\n",
       "      <th>RowID_01JAUr1E</th>\n",
       "      <th>RowID_01JEJ9cU</th>\n",
       "      <th>RowID_01JUlIOx</th>\n",
       "      <th>RowID_01LEbJaY</th>\n",
       "      <th>RowID_01NPm9D2</th>\n",
       "      <th>RowID_01Uy4TO4</th>\n",
       "      <th>RowID_01V8cXHn</th>\n",
       "      <th>RowID_01ePbzty</th>\n",
       "      <th>RowID_01fTPIMI</th>\n",
       "    </tr>\n",
       "  </thead>\n",
       "  <tbody>\n",
       "    <tr>\n",
       "      <th>0</th>\n",
       "      <td>7.0</td>\n",
       "      <td>4.0</td>\n",
       "      <td>-4.0</td>\n",
       "      <td>0</td>\n",
       "      <td>0</td>\n",
       "      <td>0</td>\n",
       "      <td>0</td>\n",
       "      <td>0</td>\n",
       "      <td>0</td>\n",
       "      <td>0</td>\n",
       "      <td>...</td>\n",
       "      <td>0</td>\n",
       "      <td>0</td>\n",
       "      <td>0</td>\n",
       "      <td>0</td>\n",
       "      <td>0</td>\n",
       "      <td>0</td>\n",
       "      <td>0</td>\n",
       "      <td>0</td>\n",
       "      <td>0</td>\n",
       "      <td>0</td>\n",
       "    </tr>\n",
       "    <tr>\n",
       "      <th>1</th>\n",
       "      <td>7.0</td>\n",
       "      <td>8.0</td>\n",
       "      <td>-1.0</td>\n",
       "      <td>0</td>\n",
       "      <td>0</td>\n",
       "      <td>0</td>\n",
       "      <td>0</td>\n",
       "      <td>0</td>\n",
       "      <td>0</td>\n",
       "      <td>0</td>\n",
       "      <td>...</td>\n",
       "      <td>0</td>\n",
       "      <td>0</td>\n",
       "      <td>0</td>\n",
       "      <td>0</td>\n",
       "      <td>0</td>\n",
       "      <td>0</td>\n",
       "      <td>0</td>\n",
       "      <td>0</td>\n",
       "      <td>0</td>\n",
       "      <td>0</td>\n",
       "    </tr>\n",
       "    <tr>\n",
       "      <th>2</th>\n",
       "      <td>NaN</td>\n",
       "      <td>28.0</td>\n",
       "      <td>18.0</td>\n",
       "      <td>0</td>\n",
       "      <td>0</td>\n",
       "      <td>0</td>\n",
       "      <td>0</td>\n",
       "      <td>0</td>\n",
       "      <td>0</td>\n",
       "      <td>0</td>\n",
       "      <td>...</td>\n",
       "      <td>0</td>\n",
       "      <td>0</td>\n",
       "      <td>0</td>\n",
       "      <td>0</td>\n",
       "      <td>0</td>\n",
       "      <td>0</td>\n",
       "      <td>0</td>\n",
       "      <td>0</td>\n",
       "      <td>0</td>\n",
       "      <td>0</td>\n",
       "    </tr>\n",
       "    <tr>\n",
       "      <th>3</th>\n",
       "      <td>NaN</td>\n",
       "      <td>50.0</td>\n",
       "      <td>4.0</td>\n",
       "      <td>0</td>\n",
       "      <td>0</td>\n",
       "      <td>0</td>\n",
       "      <td>0</td>\n",
       "      <td>0</td>\n",
       "      <td>0</td>\n",
       "      <td>0</td>\n",
       "      <td>...</td>\n",
       "      <td>0</td>\n",
       "      <td>0</td>\n",
       "      <td>0</td>\n",
       "      <td>0</td>\n",
       "      <td>0</td>\n",
       "      <td>0</td>\n",
       "      <td>0</td>\n",
       "      <td>0</td>\n",
       "      <td>0</td>\n",
       "      <td>0</td>\n",
       "    </tr>\n",
       "    <tr>\n",
       "      <th>4</th>\n",
       "      <td>NaN</td>\n",
       "      <td>14.0</td>\n",
       "      <td>23.0</td>\n",
       "      <td>0</td>\n",
       "      <td>0</td>\n",
       "      <td>0</td>\n",
       "      <td>0</td>\n",
       "      <td>0</td>\n",
       "      <td>0</td>\n",
       "      <td>0</td>\n",
       "      <td>...</td>\n",
       "      <td>0</td>\n",
       "      <td>0</td>\n",
       "      <td>0</td>\n",
       "      <td>0</td>\n",
       "      <td>0</td>\n",
       "      <td>0</td>\n",
       "      <td>0</td>\n",
       "      <td>0</td>\n",
       "      <td>0</td>\n",
       "      <td>0</td>\n",
       "    </tr>\n",
       "  </tbody>\n",
       "</table>\n",
       "<p>5 rows × 48 columns</p>\n",
       "</div>"
      ],
      "text/plain": [
       "   COL_3  COL_4  COL_5  SOLD  RowID_001ZhvBL  RowID_004gCfrb  RowID_00ARKMNx  \\\n",
       "0    7.0    4.0   -4.0     0               0               0               0   \n",
       "1    7.0    8.0   -1.0     0               0               0               0   \n",
       "2    NaN   28.0   18.0     0               0               0               0   \n",
       "3    NaN   50.0    4.0     0               0               0               0   \n",
       "4    NaN   14.0   23.0     0               0               0               0   \n",
       "\n",
       "   RowID_00BMtdrH  RowID_00De16tP  RowID_00E2syLQ  ...  RowID_01HUPXX7  \\\n",
       "0               0               0               0  ...               0   \n",
       "1               0               0               0  ...               0   \n",
       "2               0               0               0  ...               0   \n",
       "3               0               0               0  ...               0   \n",
       "4               0               0               0  ...               0   \n",
       "\n",
       "   RowID_01JAUr1E  RowID_01JEJ9cU  RowID_01JUlIOx  RowID_01LEbJaY  \\\n",
       "0               0               0               0               0   \n",
       "1               0               0               0               0   \n",
       "2               0               0               0               0   \n",
       "3               0               0               0               0   \n",
       "4               0               0               0               0   \n",
       "\n",
       "   RowID_01NPm9D2  RowID_01Uy4TO4  RowID_01V8cXHn  RowID_01ePbzty  \\\n",
       "0               0               0               0               0   \n",
       "1               0               0               0               0   \n",
       "2               0               0               0               0   \n",
       "3               0               0               0               0   \n",
       "4               0               0               0               0   \n",
       "\n",
       "   RowID_01fTPIMI  \n",
       "0               0  \n",
       "1               0  \n",
       "2               0  \n",
       "3               0  \n",
       "4               0  \n",
       "\n",
       "[5 rows x 48 columns]"
      ]
     },
     "execution_count": 76,
     "metadata": {},
     "output_type": "execute_result"
    }
   ],
   "source": [
    "dummy_train_df.iloc[:, 1:49].head()"
   ]
  },
  {
   "cell_type": "code",
   "execution_count": 77,
   "id": "6d4aaa53",
   "metadata": {},
   "outputs": [
    {
     "data": {
      "text/plain": [
       "array([-9.,  2., -6., ..., 15.,  5., -2.])"
      ]
     },
     "execution_count": 77,
     "metadata": {},
     "output_type": "execute_result"
    }
   ],
   "source": [
    "y_test"
   ]
  },
  {
   "cell_type": "code",
   "execution_count": 75,
   "id": "63660f15",
   "metadata": {},
   "outputs": [
    {
     "ename": "TypeError",
     "evalue": "'DataFrame' object is not callable",
     "output_type": "error",
     "traceback": [
      "\u001b[1;31m---------------------------------------------------------------------------\u001b[0m",
      "\u001b[1;31mTypeError\u001b[0m                                 Traceback (most recent call last)",
      "Input \u001b[1;32mIn [75]\u001b[0m, in \u001b[0;36m<cell line: 1>\u001b[1;34m()\u001b[0m\n\u001b[1;32m----> 1\u001b[0m X_data \u001b[38;5;241m=\u001b[39m \u001b[43mdummy_train_df\u001b[49m\u001b[43m(\u001b[49m\u001b[38;5;124;43m'\u001b[39;49m\u001b[38;5;124;43mSOLD\u001b[39;49m\u001b[38;5;124;43m'\u001b[39;49m\u001b[43m,\u001b[49m\u001b[43m \u001b[49m\u001b[43maxis\u001b[49m\u001b[38;5;241;43m=\u001b[39;49m\u001b[38;5;241;43m1\u001b[39;49m\u001b[43m)\u001b[49m\n",
      "\u001b[1;31mTypeError\u001b[0m: 'DataFrame' object is not callable"
     ]
    }
   ],
   "source": [
    "X_data = dummy_train_df('SOLD', axis=1)"
   ]
  },
  {
   "cell_type": "code",
   "execution_count": 40,
   "id": "ba27c54e",
   "metadata": {},
   "outputs": [
    {
     "ename": "NameError",
     "evalue": "name 'edges' is not defined",
     "output_type": "error",
     "traceback": [
      "\u001b[1;31m---------------------------------------------------------------------------\u001b[0m",
      "\u001b[1;31mNameError\u001b[0m                                 Traceback (most recent call last)",
      "Input \u001b[1;32mIn [40]\u001b[0m, in \u001b[0;36m<cell line: 1>\u001b[1;34m()\u001b[0m\n\u001b[1;32m----> 1\u001b[0m mask \u001b[38;5;241m=\u001b[39m np\u001b[38;5;241m.\u001b[39mzeros(\u001b[43medges\u001b[49m\u001b[38;5;241m.\u001b[39mshape,dtype\u001b[38;5;241m=\u001b[39m\u001b[38;5;124m'\u001b[39m\u001b[38;5;124muint8\u001b[39m\u001b[38;5;124m'\u001b[39m)\n",
      "\u001b[1;31mNameError\u001b[0m: name 'edges' is not defined"
     ]
    }
   ],
   "source": [
    "mask = np.zeros(edges.shape,dtype='uint8')"
   ]
  },
  {
   "cell_type": "code",
   "execution_count": 36,
   "id": "1685716c",
   "metadata": {},
   "outputs": [
    {
     "ename": "NameError",
     "evalue": "name 'X_data' is not defined",
     "output_type": "error",
     "traceback": [
      "\u001b[1;31m---------------------------------------------------------------------------\u001b[0m",
      "\u001b[1;31mNameError\u001b[0m                                 Traceback (most recent call last)",
      "Input \u001b[1;32mIn [36]\u001b[0m, in \u001b[0;36m<cell line: 4>\u001b[1;34m()\u001b[0m\n\u001b[0;32m      2\u001b[0m \u001b[38;5;28;01mfrom\u001b[39;00m \u001b[38;5;21;01msklearn\u001b[39;00m\u001b[38;5;21;01m.\u001b[39;00m\u001b[38;5;21;01mpreprocessing\u001b[39;00m \u001b[38;5;28;01mimport\u001b[39;00m MinMaxScaler\n\u001b[0;32m      3\u001b[0m scaler \u001b[38;5;241m=\u001b[39m MinMaxScaler()\n\u001b[1;32m----> 4\u001b[0m X_scaled \u001b[38;5;241m=\u001b[39m scaler\u001b[38;5;241m.\u001b[39mfit_transform(\u001b[43mX_data\u001b[49m)\n\u001b[0;32m      5\u001b[0m X_normalize \u001b[38;5;241m=\u001b[39m pd\u001b[38;5;241m.\u001b[39mDataFrame(X_scaled, columns\u001b[38;5;241m=\u001b[39mX_data\u001b[38;5;241m.\u001b[39mcolumns)\n",
      "\u001b[1;31mNameError\u001b[0m: name 'X_data' is not defined"
     ]
    }
   ],
   "source": [
    "# Normalize data\n",
    "from sklearn.preprocessing import MinMaxScaler\n",
    "scaler = MinMaxScaler()\n",
    "X_scaled = scaler.fit_transform(X_data)\n",
    "X_normalize = pd.DataFrame(X_scaled, columns=X_data.columns)"
   ]
  },
  {
   "cell_type": "code",
   "execution_count": null,
   "id": "eecd7c33",
   "metadata": {},
   "outputs": [],
   "source": []
  },
  {
   "cell_type": "code",
   "execution_count": null,
   "id": "6cb160a7",
   "metadata": {},
   "outputs": [],
   "source": [
    "from sklearn.feature_selection import VarianceThreshold\n",
    "\n",
    "# Create VarianceThreshold object\n",
    "selector = VarianceThreshold(threshold=0.02)\n",
    "\n",
    "# Use the object to apply the threshold on data\n",
    "selector.fit(X_normalize)"
   ]
  },
  {
   "cell_type": "code",
   "execution_count": null,
   "id": "c5e08baa",
   "metadata": {},
   "outputs": [],
   "source": []
  },
  {
   "cell_type": "code",
   "execution_count": 35,
   "id": "2b784b36",
   "metadata": {},
   "outputs": [
    {
     "ename": "NameError",
     "evalue": "name 'selector' is not defined",
     "output_type": "error",
     "traceback": [
      "\u001b[1;31m---------------------------------------------------------------------------\u001b[0m",
      "\u001b[1;31mNameError\u001b[0m                                 Traceback (most recent call last)",
      "Input \u001b[1;32mIn [35]\u001b[0m, in \u001b[0;36m<cell line: 2>\u001b[1;34m()\u001b[0m\n\u001b[0;32m      1\u001b[0m \u001b[38;5;66;03m# Get column variances\u001b[39;00m\n\u001b[1;32m----> 2\u001b[0m column_variances \u001b[38;5;241m=\u001b[39m \u001b[43mselector\u001b[49m\u001b[38;5;241m.\u001b[39mvariances_\n\u001b[0;32m      4\u001b[0m vars_dict \u001b[38;5;241m=\u001b[39m {}\n\u001b[0;32m      5\u001b[0m vars_dict \u001b[38;5;241m=\u001b[39m [{\u001b[38;5;124m\"\u001b[39m\u001b[38;5;124mVariable_Name\u001b[39m\u001b[38;5;124m\"\u001b[39m: c_name, \u001b[38;5;124m\"\u001b[39m\u001b[38;5;124mVariance\u001b[39m\u001b[38;5;124m\"\u001b[39m: c_var}\n\u001b[0;32m      6\u001b[0m              \u001b[38;5;28;01mfor\u001b[39;00m c_name, c_var \u001b[38;5;129;01min\u001b[39;00m \u001b[38;5;28mzip\u001b[39m(X_normalize\u001b[38;5;241m.\u001b[39mcolumns, column_variances)] \u001b[38;5;66;03m#will create a list of dictionaries\u001b[39;00m\n",
      "\u001b[1;31mNameError\u001b[0m: name 'selector' is not defined"
     ]
    }
   ],
   "source": [
    "# Get column variances\n",
    "column_variances = selector.variances_\n",
    "\n",
    "vars_dict = {}\n",
    "vars_dict = [{\"Variable_Name\": c_name, \"Variance\": c_var}\n",
    "             for c_name, c_var in zip(X_normalize.columns, column_variances)] #will create a list of dictionaries\n",
    "df_vars = pd.DataFrame(vars_dict)\n",
    "df_vars.sort_values(by='Variance', ascending=False)"
   ]
  },
  {
   "cell_type": "code",
   "execution_count": null,
   "id": "47986286",
   "metadata": {},
   "outputs": [],
   "source": []
  },
  {
   "cell_type": "code",
   "execution_count": 4,
   "id": "a4a060ab",
   "metadata": {},
   "outputs": [
    {
     "ename": "NameError",
     "evalue": "name 'submission' is not defined",
     "output_type": "error",
     "traceback": [
      "\u001b[1;31m---------------------------------------------------------------------------\u001b[0m",
      "\u001b[1;31mNameError\u001b[0m                                 Traceback (most recent call last)",
      "Input \u001b[1;32mIn [4]\u001b[0m, in \u001b[0;36m<cell line: 1>\u001b[1;34m()\u001b[0m\n\u001b[1;32m----> 1\u001b[0m \u001b[43msubmission\u001b[49m\u001b[38;5;241m.\u001b[39mto_csv(\u001b[38;5;124m\"\u001b[39m\u001b[38;5;124mtesting(v_reg_pred).csv\u001b[39m\u001b[38;5;124m\"\u001b[39m, index\u001b[38;5;241m=\u001b[39m\u001b[38;5;28;01mFalse\u001b[39;00m)\n",
      "\u001b[1;31mNameError\u001b[0m: name 'submission' is not defined"
     ]
    }
   ],
   "source": [
    "submission.to_csv(\"testing(v_reg_pred).csv\", index=False)"
   ]
  },
  {
   "cell_type": "code",
   "execution_count": 5,
   "id": "74473a13-4fb5-4f81-ae86-b2634617b271",
   "metadata": {},
   "outputs": [],
   "source": [
    "sub= pd.read_csv('SampleSubmission.csv')"
   ]
  },
  {
   "cell_type": "code",
   "execution_count": 6,
   "id": "84b6f6d6-97aa-4bf5-b9a5-52788f21d822",
   "metadata": {},
   "outputs": [
    {
     "data": {
      "text/html": [
       "<div>\n",
       "<style scoped>\n",
       "    .dataframe tbody tr th:only-of-type {\n",
       "        vertical-align: middle;\n",
       "    }\n",
       "\n",
       "    .dataframe tbody tr th {\n",
       "        vertical-align: top;\n",
       "    }\n",
       "\n",
       "    .dataframe thead th {\n",
       "        text-align: right;\n",
       "    }\n",
       "</style>\n",
       "<table border=\"1\" class=\"dataframe\">\n",
       "  <thead>\n",
       "    <tr style=\"text-align: right;\">\n",
       "      <th></th>\n",
       "      <th>RowId</th>\n",
       "      <th>Prediction</th>\n",
       "      <th>Classification</th>\n",
       "    </tr>\n",
       "  </thead>\n",
       "  <tbody>\n",
       "    <tr>\n",
       "      <th>0</th>\n",
       "      <td>sFvx60fE</td>\n",
       "      <td>0.040256</td>\n",
       "      <td>0</td>\n",
       "    </tr>\n",
       "    <tr>\n",
       "      <th>1</th>\n",
       "      <td>CvLgpCHo</td>\n",
       "      <td>0.006290</td>\n",
       "      <td>0</td>\n",
       "    </tr>\n",
       "    <tr>\n",
       "      <th>2</th>\n",
       "      <td>JAsCGaRB</td>\n",
       "      <td>0.049014</td>\n",
       "      <td>0</td>\n",
       "    </tr>\n",
       "    <tr>\n",
       "      <th>3</th>\n",
       "      <td>ClvOMUFN</td>\n",
       "      <td>0.078437</td>\n",
       "      <td>0</td>\n",
       "    </tr>\n",
       "    <tr>\n",
       "      <th>4</th>\n",
       "      <td>911lYZpr</td>\n",
       "      <td>0.021578</td>\n",
       "      <td>0</td>\n",
       "    </tr>\n",
       "  </tbody>\n",
       "</table>\n",
       "</div>"
      ],
      "text/plain": [
       "      RowId  Prediction  Classification\n",
       "0  sFvx60fE    0.040256               0\n",
       "1  CvLgpCHo    0.006290               0\n",
       "2  JAsCGaRB    0.049014               0\n",
       "3  ClvOMUFN    0.078437               0\n",
       "4  911lYZpr    0.021578               0"
      ]
     },
     "execution_count": 6,
     "metadata": {},
     "output_type": "execute_result"
    }
   ],
   "source": [
    "sub.head()"
   ]
  },
  {
   "cell_type": "code",
   "execution_count": 7,
   "id": "3ff80777-60b7-4732-b30f-36b8351582d8",
   "metadata": {},
   "outputs": [
    {
     "data": {
      "text/html": [
       "<div>\n",
       "<style scoped>\n",
       "    .dataframe tbody tr th:only-of-type {\n",
       "        vertical-align: middle;\n",
       "    }\n",
       "\n",
       "    .dataframe tbody tr th {\n",
       "        vertical-align: top;\n",
       "    }\n",
       "\n",
       "    .dataframe thead th {\n",
       "        text-align: right;\n",
       "    }\n",
       "</style>\n",
       "<table border=\"1\" class=\"dataframe\">\n",
       "  <thead>\n",
       "    <tr style=\"text-align: right;\">\n",
       "      <th></th>\n",
       "      <th>RowId</th>\n",
       "      <th>Prediction</th>\n",
       "      <th>Classification</th>\n",
       "    </tr>\n",
       "  </thead>\n",
       "  <tbody>\n",
       "    <tr>\n",
       "      <th>5</th>\n",
       "      <td>beb7Ozpq</td>\n",
       "      <td>0.023465</td>\n",
       "      <td>0</td>\n",
       "    </tr>\n",
       "    <tr>\n",
       "      <th>6</th>\n",
       "      <td>T1LDbXQF</td>\n",
       "      <td>0.041568</td>\n",
       "      <td>0</td>\n",
       "    </tr>\n",
       "    <tr>\n",
       "      <th>7</th>\n",
       "      <td>gRpCjCsM</td>\n",
       "      <td>0.034478</td>\n",
       "      <td>0</td>\n",
       "    </tr>\n",
       "    <tr>\n",
       "      <th>8</th>\n",
       "      <td>xHkbIyuX</td>\n",
       "      <td>0.080271</td>\n",
       "      <td>1</td>\n",
       "    </tr>\n",
       "    <tr>\n",
       "      <th>9</th>\n",
       "      <td>7A9nt9y1</td>\n",
       "      <td>0.079342</td>\n",
       "      <td>1</td>\n",
       "    </tr>\n",
       "  </tbody>\n",
       "</table>\n",
       "</div>"
      ],
      "text/plain": [
       "      RowId  Prediction  Classification\n",
       "5  beb7Ozpq    0.023465               0\n",
       "6  T1LDbXQF    0.041568               0\n",
       "7  gRpCjCsM    0.034478               0\n",
       "8  xHkbIyuX    0.080271               1\n",
       "9  7A9nt9y1    0.079342               1"
      ]
     },
     "execution_count": 7,
     "metadata": {},
     "output_type": "execute_result"
    }
   ],
   "source": [
    "sub.tail()"
   ]
  },
  {
   "cell_type": "code",
   "execution_count": null,
   "id": "d741beed-175d-492a-8e31-4e82138bd7fc",
   "metadata": {},
   "outputs": [],
   "source": []
  }
 ],
 "metadata": {
  "kernelspec": {
   "display_name": "Python 3 (ipykernel)",
   "language": "python",
   "name": "python3"
  },
  "language_info": {
   "codemirror_mode": {
    "name": "ipython",
    "version": 3
   },
   "file_extension": ".py",
   "mimetype": "text/x-python",
   "name": "python",
   "nbconvert_exporter": "python",
   "pygments_lexer": "ipython3",
   "version": "3.9.12"
  }
 },
 "nbformat": 4,
 "nbformat_minor": 5
}
